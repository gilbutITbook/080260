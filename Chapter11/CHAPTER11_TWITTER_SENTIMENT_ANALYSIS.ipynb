{
 "cells": [
  {
   "cell_type": "markdown",
   "metadata": {
    "collapsed": true
   },
   "source": [
    "# Sentiment Analysis:\n",
    "This is a sentiment analysis on social media for 100 tweets on news medial selected:\n",
    "BBC,CNN,CBS,FoxNew and New York Times.The data collected were analyzed below:"
   ]
  },
  {
   "cell_type": "code",
   "execution_count": 1,
   "metadata": {},
   "outputs": [
    {
     "name": "stdout",
     "output_type": "stream",
     "text": [
      "Requirement already satisfied: vaderSentiment in c:\\users\\admin\\appdata\\local\\programs\\python\\python37\\lib\\site-packages (3.3.2)\n",
      "Requirement already satisfied: requests in c:\\users\\admin\\appdata\\local\\programs\\python\\python37\\lib\\site-packages (from vaderSentiment) (2.21.0)\n",
      "Requirement already satisfied: chardet<3.1.0,>=3.0.2 in c:\\users\\admin\\appdata\\local\\programs\\python\\python37\\lib\\site-packages (from requests->vaderSentiment) (3.0.4)\n",
      "Requirement already satisfied: idna<2.9,>=2.5 in c:\\users\\admin\\appdata\\local\\programs\\python\\python37\\lib\\site-packages (from requests->vaderSentiment) (2.8)\n",
      "Requirement already satisfied: urllib3<1.25,>=1.21.1 in c:\\users\\admin\\appdata\\local\\programs\\python\\python37\\lib\\site-packages (from requests->vaderSentiment) (1.24.1)\n",
      "Requirement already satisfied: certifi>=2017.4.17 in c:\\users\\admin\\appdata\\local\\programs\\python\\python37\\lib\\site-packages (from requests->vaderSentiment) (2018.11.29)\n"
     ]
    },
    {
     "name": "stderr",
     "output_type": "stream",
     "text": [
      "You are using pip version 18.1, however version 20.2b1 is available.\n",
      "You should consider upgrading via the 'python -m pip install --upgrade pip' command.\n"
     ]
    }
   ],
   "source": [
    "!pip install vaderSentiment\n",
    "# Import and Initialize Sentiment Analyzer"
   ]
  },
  {
   "cell_type": "markdown",
   "metadata": {},
   "source": [
    "## Import the needed packages"
   ]
  },
  {
   "cell_type": "code",
   "execution_count": 2,
   "metadata": {},
   "outputs": [],
   "source": [
    "import tweepy,json,time\n",
    "import numpy as np\n",
    "import pandas as pd\n",
    "import matplotlib.pyplot as plt\n",
    "from vaderSentiment.vaderSentiment import SentimentIntensityAnalyzer\n",
    "analyzer = SentimentIntensityAnalyzer()"
   ]
  },
  {
   "cell_type": "markdown",
   "metadata": {},
   "source": [
    "## Getting the Twitter API Keys"
   ]
  },
  {
   "cell_type": "code",
   "execution_count": 3,
   "metadata": {},
   "outputs": [],
   "source": [
    "twitter_access_token = \"966112597975150592-I6l9SD8IOj3OYmQBkOnNeRLr3lyqsrN\"\n",
    "twitter_access_token_secret = \"HR3Eiyfh3kG16zTraLdXCtcNLMhXOdU23UH8cYfNkzRBV\"\n",
    "twitter_consumer_key = \"rjQVbO0NyrvcuJDT91752ex11\"\n",
    "twitter_consumer_secret = \"zufLHHrPOWN1sF8JocuB36wj4yZWscIwUGwQYkh8TYfCG9aRIG\""
   ]
  },
  {
   "cell_type": "markdown",
   "metadata": {},
   "source": [
    "## Let us then configure theTweepy API Authentication"
   ]
  },
  {
   "cell_type": "code",
   "execution_count": 4,
   "metadata": {},
   "outputs": [],
   "source": [
    "auth = tweepy.OAuthHandler(twitter_consumer_key, twitter_consumer_secret)\n",
    "auth.set_access_token(twitter_access_token, twitter_access_token_secret)\n",
    "api = tweepy.API(auth, parser=tweepy.parsers.JSONParser())"
   ]
  },
  {
   "cell_type": "markdown",
   "metadata": {},
   "source": [
    "## Let us now specify the data sources"
   ]
  },
  {
   "cell_type": "code",
   "execution_count": 5,
   "metadata": {},
   "outputs": [],
   "source": [
    "news_sources = (\"@BBC\", \"@ctvnews\", \"@CNN\",\"@FoxNews\", \"@dawn_com\")"
   ]
  },
  {
   "cell_type": "code",
   "execution_count": 6,
   "metadata": {},
   "outputs": [
    {
     "name": "stdout",
     "output_type": "stream",
     "text": [
      "...STARTING..... collecting tweets from sources\n",
      "Start tweets from @BBC\n",
      "Start tweets from @ctvnews\n",
      "Start tweets from @CNN\n",
      "Start tweets from @FoxNews\n",
      "Start tweets from @dawn_com\n",
      "DONE with extracting tweets\n"
     ]
    }
   ],
   "source": [
    "# We start extracting 100 tweets from each of the news sources\n",
    "print(\"...STARTING..... collecting tweets from sources\")\n",
    "\n",
    "# Let us define an array to hold the sentiments\n",
    "array_sentiments = []\n",
    "\n",
    "for user in news_sources:\n",
    "    count_tweet=100  # Setting the twitter count at 100\n",
    "    print(\"Start tweets from %s\"%user)\n",
    "    for x in range(5):     # Extracting 5 pages of tweets\n",
    "        public_tweets=api.user_timeline(user,page=x)\n",
    "        # For each tweet \n",
    "        for tweet in public_tweets:\n",
    "            #Calculating the compound,+ive,-ive and neutral value for each tweet\n",
    "            compound = analyzer.polarity_scores(tweet[\"text\"])[\"compound\"]\n",
    "            pos = analyzer.polarity_scores(tweet[\"text\"])[\"pos\"]\n",
    "            neu = analyzer.polarity_scores(tweet[\"text\"])[\"neu\"]\n",
    "            neg = analyzer.polarity_scores(tweet[\"text\"])[\"neg\"]\n",
    "         \n",
    "            array_sentiments.append({\"Media\":user,\n",
    "                                    \"Tweet Text\":tweet[\"text\"],\n",
    "                                    \"Compound\":compound,\n",
    "                                    \"Positive\":pos,\n",
    "                                    \"Negative\":neg,\n",
    "                                    \"Neutral\":neu,\n",
    "                                    \"Date\":tweet[\"created_at\"],\n",
    "                                    \"Tweets Ago\":count_tweet})\n",
    "            \n",
    "            count_tweet-=1\n",
    "\n",
    "print(\"DONE with extracting tweets\")"
   ]
  },
  {
   "cell_type": "markdown",
   "metadata": {},
   "source": [
    "## Process the data and store it."
   ]
  },
  {
   "cell_type": "code",
   "execution_count": 7,
   "metadata": {},
   "outputs": [
    {
     "data": {
      "text/html": [
       "<div>\n",
       "<style scoped>\n",
       "    .dataframe tbody tr th:only-of-type {\n",
       "        vertical-align: middle;\n",
       "    }\n",
       "\n",
       "    .dataframe tbody tr th {\n",
       "        vertical-align: top;\n",
       "    }\n",
       "\n",
       "    .dataframe thead th {\n",
       "        text-align: right;\n",
       "    }\n",
       "</style>\n",
       "<table border=\"1\" class=\"dataframe\">\n",
       "  <thead>\n",
       "    <tr style=\"text-align: right;\">\n",
       "      <th></th>\n",
       "      <th>Media</th>\n",
       "      <th>Date</th>\n",
       "      <th>Tweet Text</th>\n",
       "      <th>Compound</th>\n",
       "      <th>Positive</th>\n",
       "      <th>Negative</th>\n",
       "      <th>Neutral</th>\n",
       "      <th>Tweets Ago</th>\n",
       "    </tr>\n",
       "  </thead>\n",
       "  <tbody>\n",
       "    <tr>\n",
       "      <th>0</th>\n",
       "      <td>BBC</td>\n",
       "      <td>Wed Jun 03 18:01:00 +0000 2020</td>\n",
       "      <td>I've found your new lockdown activity. 🥢\\n\\n#Q...</td>\n",
       "      <td>0.0000</td>\n",
       "      <td>0.000</td>\n",
       "      <td>0.000</td>\n",
       "      <td>1.000</td>\n",
       "      <td>100</td>\n",
       "    </tr>\n",
       "    <tr>\n",
       "      <th>1</th>\n",
       "      <td>BBC</td>\n",
       "      <td>Wed Jun 03 16:01:00 +0000 2020</td>\n",
       "      <td>The NHS has introduced a test and trace system...</td>\n",
       "      <td>0.2144</td>\n",
       "      <td>0.074</td>\n",
       "      <td>0.000</td>\n",
       "      <td>0.926</td>\n",
       "      <td>99</td>\n",
       "    </tr>\n",
       "    <tr>\n",
       "      <th>2</th>\n",
       "      <td>BBC</td>\n",
       "      <td>Wed Jun 03 13:01:00 +0000 2020</td>\n",
       "      <td>\"I hope this is a learning point for many peop...</td>\n",
       "      <td>0.4404</td>\n",
       "      <td>0.182</td>\n",
       "      <td>0.000</td>\n",
       "      <td>0.818</td>\n",
       "      <td>98</td>\n",
       "    </tr>\n",
       "    <tr>\n",
       "      <th>3</th>\n",
       "      <td>BBC</td>\n",
       "      <td>Wed Jun 03 12:01:00 +0000 2020</td>\n",
       "      <td>These monkeys are treated like gods! 🙉\\n\\n#Pri...</td>\n",
       "      <td>0.4199</td>\n",
       "      <td>0.166</td>\n",
       "      <td>0.000</td>\n",
       "      <td>0.834</td>\n",
       "      <td>97</td>\n",
       "    </tr>\n",
       "    <tr>\n",
       "      <th>4</th>\n",
       "      <td>BBC</td>\n",
       "      <td>Wed Jun 03 11:01:00 +0000 2020</td>\n",
       "      <td>This is the fascinating story of David Mayan, ...</td>\n",
       "      <td>0.8074</td>\n",
       "      <td>0.372</td>\n",
       "      <td>0.000</td>\n",
       "      <td>0.628</td>\n",
       "      <td>96</td>\n",
       "    </tr>\n",
       "    <tr>\n",
       "      <th>5</th>\n",
       "      <td>BBC</td>\n",
       "      <td>Wed Jun 03 09:19:24 +0000 2020</td>\n",
       "      <td>RT @bbcpress: Watch out for Rachel Carey - @BB...</td>\n",
       "      <td>0.1027</td>\n",
       "      <td>0.065</td>\n",
       "      <td>0.000</td>\n",
       "      <td>0.935</td>\n",
       "      <td>95</td>\n",
       "    </tr>\n",
       "    <tr>\n",
       "      <th>6</th>\n",
       "      <td>BBC</td>\n",
       "      <td>Wed Jun 03 08:01:00 +0000 2020</td>\n",
       "      <td>Ophelia channels the otherworldly art of her i...</td>\n",
       "      <td>0.0000</td>\n",
       "      <td>0.000</td>\n",
       "      <td>0.000</td>\n",
       "      <td>1.000</td>\n",
       "      <td>94</td>\n",
       "    </tr>\n",
       "    <tr>\n",
       "      <th>7</th>\n",
       "      <td>BBC</td>\n",
       "      <td>Wed Jun 03 06:53:10 +0000 2020</td>\n",
       "      <td>RT @bbcpress: BBC Young Jazz Musician returns ...</td>\n",
       "      <td>0.8658</td>\n",
       "      <td>0.350</td>\n",
       "      <td>0.000</td>\n",
       "      <td>0.650</td>\n",
       "      <td>93</td>\n",
       "    </tr>\n",
       "    <tr>\n",
       "      <th>8</th>\n",
       "      <td>BBC</td>\n",
       "      <td>Tue Jun 02 14:55:56 +0000 2020</td>\n",
       "      <td>RT @BBCR1: “You cannot enjoy the rhythm and ig...</td>\n",
       "      <td>-0.7127</td>\n",
       "      <td>0.096</td>\n",
       "      <td>0.281</td>\n",
       "      <td>0.623</td>\n",
       "      <td>92</td>\n",
       "    </tr>\n",
       "    <tr>\n",
       "      <th>9</th>\n",
       "      <td>BBC</td>\n",
       "      <td>Tue Jun 02 13:16:18 +0000 2020</td>\n",
       "      <td>RT @BBCR1: \"This is your problem too. It's min...</td>\n",
       "      <td>-0.8934</td>\n",
       "      <td>0.000</td>\n",
       "      <td>0.360</td>\n",
       "      <td>0.640</td>\n",
       "      <td>91</td>\n",
       "    </tr>\n",
       "  </tbody>\n",
       "</table>\n",
       "</div>"
      ],
      "text/plain": [
       "  Media                            Date  \\\n",
       "0   BBC  Wed Jun 03 18:01:00 +0000 2020   \n",
       "1   BBC  Wed Jun 03 16:01:00 +0000 2020   \n",
       "2   BBC  Wed Jun 03 13:01:00 +0000 2020   \n",
       "3   BBC  Wed Jun 03 12:01:00 +0000 2020   \n",
       "4   BBC  Wed Jun 03 11:01:00 +0000 2020   \n",
       "5   BBC  Wed Jun 03 09:19:24 +0000 2020   \n",
       "6   BBC  Wed Jun 03 08:01:00 +0000 2020   \n",
       "7   BBC  Wed Jun 03 06:53:10 +0000 2020   \n",
       "8   BBC  Tue Jun 02 14:55:56 +0000 2020   \n",
       "9   BBC  Tue Jun 02 13:16:18 +0000 2020   \n",
       "\n",
       "                                          Tweet Text  Compound  Positive  \\\n",
       "0  I've found your new lockdown activity. 🥢\\n\\n#Q...    0.0000     0.000   \n",
       "1  The NHS has introduced a test and trace system...    0.2144     0.074   \n",
       "2  \"I hope this is a learning point for many peop...    0.4404     0.182   \n",
       "3  These monkeys are treated like gods! 🙉\\n\\n#Pri...    0.4199     0.166   \n",
       "4  This is the fascinating story of David Mayan, ...    0.8074     0.372   \n",
       "5  RT @bbcpress: Watch out for Rachel Carey - @BB...    0.1027     0.065   \n",
       "6  Ophelia channels the otherworldly art of her i...    0.0000     0.000   \n",
       "7  RT @bbcpress: BBC Young Jazz Musician returns ...    0.8658     0.350   \n",
       "8  RT @BBCR1: “You cannot enjoy the rhythm and ig...   -0.7127     0.096   \n",
       "9  RT @BBCR1: \"This is your problem too. It's min...   -0.8934     0.000   \n",
       "\n",
       "   Negative  Neutral  Tweets Ago  \n",
       "0     0.000    1.000         100  \n",
       "1     0.000    0.926          99  \n",
       "2     0.000    0.818          98  \n",
       "3     0.000    0.834          97  \n",
       "4     0.000    0.628          96  \n",
       "5     0.000    0.935          95  \n",
       "6     0.000    1.000          94  \n",
       "7     0.000    0.650          93  \n",
       "8     0.281    0.623          92  \n",
       "9     0.360    0.640          91  "
      ]
     },
     "execution_count": 7,
     "metadata": {},
     "output_type": "execute_result"
    }
   ],
   "source": [
    "# Creating a dataframe from the Sentiment Array Converting the sentiment arrary to a dataframe\n",
    "sentiments_df=pd.DataFrame.from_dict(array_sentiments)\n",
    "# Removing the '@' from Media column in the data frame\n",
    "sentiments_df['Media'] = sentiments_df['Media'].map(lambda x: x.lstrip('@'))\n",
    "\n",
    "# Re_arranging the order of columns before saving into CSV file\n",
    "sentiments_df=sentiments_df[[\"Media\",\"Date\",\"Tweet Text\",\"Compound\",\"Positive\",\"Negative\",\"Neutral\",\"Tweets Ago\"]]\n",
    "# Storing into a CSV File\\\n",
    "sentiments_df.to_csv(\"mySentimentAnalysis.csv\")\n",
    "\n",
    "sentiments_df.head(10)\n",
    "\n",
    "\n"
   ]
  },
  {
   "cell_type": "code",
   "execution_count": 8,
   "metadata": {},
   "outputs": [],
   "source": [
    "# Creating an array with the unique Media sources in the data frame\n",
    "source=sentiments_df[\"Media\"].unique()"
   ]
  },
  {
   "cell_type": "markdown",
   "metadata": {},
   "source": [
    "## Visualization for media sources"
   ]
  },
  {
   "cell_type": "code",
   "execution_count": 9,
   "metadata": {},
   "outputs": [
    {
     "data": {
      "image/png": "[encoded data removed]",
      "text/plain": [
       "<Figure size 432x288 with 1 Axes>"
      ]
     },
     "metadata": {
      "needs_background": "light"
     },
     "output_type": "display_data"
    }
   ],
   "source": [
    "for media in source:\n",
    "    mydf=sentiments_df[sentiments_df[\"Media\"]==media]\n",
    "    plt.scatter(mydf[\"Tweets Ago\"],mydf[\"Compound\"], marker=\"o\", linewidth=0, alpha=0.8, label=media,\n",
    "                facecolors=mydf.Media.map({\"BBC\": \"pink\", \"ctvnews\" : \"purple\",  \"CNN\": 'red',\n",
    "                                              \"FoxNews\":\"blue\",\"dawn_com\":\"green\"}))\n",
    "\n",
    "plt.legend(bbox_to_anchor = (1,1),title=\"Media Sources\")\n",
    "plt.title(\"Sentiment Analysis of Media Tweets (%s)\" % (time.strftime(\"%x\")), fontsize=14)\n",
    "plt.xlabel(\"Tweets Ago\")\n",
    "plt.ylabel(\"Tweet Polarity\")\n",
    "plt.xlim(101,0)\n",
    "plt.ylim(-1,1)\n",
    "plt.grid(True)\n",
    "plt.savefig(\"Output/Sentiment Analysis of Media Tweets.png\",bbox_inches='tight')\n",
    "plt.show()"
   ]
  },
  {
   "cell_type": "markdown",
   "metadata": {},
   "source": [
    "## Calculating the summary statistics"
   ]
  },
  {
   "cell_type": "code",
   "execution_count": 10,
   "metadata": {},
   "outputs": [
    {
     "data": {
      "text/html": [
       "<div>\n",
       "<style scoped>\n",
       "    .dataframe tbody tr th:only-of-type {\n",
       "        vertical-align: middle;\n",
       "    }\n",
       "\n",
       "    .dataframe tbody tr th {\n",
       "        vertical-align: top;\n",
       "    }\n",
       "\n",
       "    .dataframe thead th {\n",
       "        text-align: right;\n",
       "    }\n",
       "</style>\n",
       "<table border=\"1\" class=\"dataframe\">\n",
       "  <thead>\n",
       "    <tr style=\"text-align: right;\">\n",
       "      <th></th>\n",
       "      <th>Media</th>\n",
       "      <th>Compound</th>\n",
       "    </tr>\n",
       "  </thead>\n",
       "  <tbody>\n",
       "    <tr>\n",
       "      <th>0</th>\n",
       "      <td>BBC</td>\n",
       "      <td>0.240195</td>\n",
       "    </tr>\n",
       "    <tr>\n",
       "      <th>1</th>\n",
       "      <td>CNN</td>\n",
       "      <td>-0.174892</td>\n",
       "    </tr>\n",
       "    <tr>\n",
       "      <th>2</th>\n",
       "      <td>FoxNews</td>\n",
       "      <td>0.000000</td>\n",
       "    </tr>\n",
       "    <tr>\n",
       "      <th>3</th>\n",
       "      <td>ctvnews</td>\n",
       "      <td>-0.130889</td>\n",
       "    </tr>\n",
       "    <tr>\n",
       "      <th>4</th>\n",
       "      <td>dawn_com</td>\n",
       "      <td>-0.024180</td>\n",
       "    </tr>\n",
       "  </tbody>\n",
       "</table>\n",
       "</div>"
      ],
      "text/plain": [
       "      Media  Compound\n",
       "0       BBC  0.240195\n",
       "1       CNN -0.174892\n",
       "2   FoxNews  0.000000\n",
       "3   ctvnews -0.130889\n",
       "4  dawn_com -0.024180"
      ]
     },
     "execution_count": 10,
     "metadata": {},
     "output_type": "execute_result"
    }
   ],
   "source": [
    "# Calculating the mean for each Media channel and storing to a dataframe\n",
    "means_media_trends=sentiments_df.groupby(\"Media\").mean()[\"Compound\"].to_frame()\n",
    "#Resetting the index \n",
    "means_media_trends.reset_index(inplace=True)\n",
    "\n",
    "means_media_trends\n"
   ]
  },
  {
   "cell_type": "code",
   "execution_count": null,
   "metadata": {},
   "outputs": [],
   "source": []
  },
  {
   "cell_type": "code",
   "execution_count": null,
   "metadata": {},
   "outputs": [],
   "source": []
  }
 ],
 "metadata": {
  "kernelspec": {
   "display_name": "Python 3",
   "language": "python",
   "name": "python3"
  },
  "language_info": {
   "codemirror_mode": {
    "name": "ipython",
    "version": 3
   },
   "file_extension": ".py",
   "mimetype": "text/x-python",
   "name": "python",
   "nbconvert_exporter": "python",
   "pygments_lexer": "ipython3",
   "version": "3.7.2"
  }
 },
 "nbformat": 4,
 "nbformat_minor": 2
}
