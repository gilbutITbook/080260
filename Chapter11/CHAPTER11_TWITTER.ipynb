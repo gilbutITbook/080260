{
 "cells": [
  {
   "cell_type": "markdown",
   "metadata": {
    "collapsed": true
   },
   "source": [
    "# CHAPTER 11 DATA ALGORITHM\n",
    "\n",
    "Sentiment Analysis:\n",
    "This is a sentiment analysis on social media for 100 tweets on news medial selected:\n",
    "BBC,CNN,CBS,FoxNew and New York Times.The data collected were analyzed below:"
   ]
  },
  {
   "cell_type": "code",
   "execution_count": 4,
   "metadata": {},
   "outputs": [
    {
     "name": "stdout",
     "output_type": "stream",
     "text": [
      "Collecting tweepy\n",
      "  Downloading https://files.pythonhosted.org/packages/36/1b/2bd38043d22ade352fc3d3902cf30ce0e2f4bf285be3b304a2782a767aec/tweepy-3.8.0-py2.py3-none-any.whl\n",
      "Requirement already satisfied: requests>=2.11.1 in c:\\users\\admin\\appdata\\local\\programs\\python\\python37\\lib\\site-packages (from tweepy) (2.21.0)\n",
      "Requirement already satisfied: six>=1.10.0 in c:\\users\\admin\\appdata\\local\\programs\\python\\python37\\lib\\site-packages (from tweepy) (1.12.0)\n",
      "Collecting requests-oauthlib>=0.7.0 (from tweepy)\n",
      "  Downloading https://files.pythonhosted.org/packages/a3/12/b92740d845ab62ea4edf04d2f4164d82532b5a0b03836d4d4e71c6f3d379/requests_oauthlib-1.3.0-py2.py3-none-any.whl\n",
      "Collecting PySocks>=1.5.7 (from tweepy)\n",
      "  Downloading https://files.pythonhosted.org/packages/8d/59/b4572118e098ac8e46e399a1dd0f2d85403ce8bbaad9ec79373ed6badaf9/PySocks-1.7.1-py3-none-any.whl\n",
      "Requirement already satisfied: chardet<3.1.0,>=3.0.2 in c:\\users\\admin\\appdata\\local\\programs\\python\\python37\\lib\\site-packages (from requests>=2.11.1->tweepy) (3.0.4)\n",
      "Requirement already satisfied: idna<2.9,>=2.5 in c:\\users\\admin\\appdata\\local\\programs\\python\\python37\\lib\\site-packages (from requests>=2.11.1->tweepy) (2.8)\n",
      "Requirement already satisfied: urllib3<1.25,>=1.21.1 in c:\\users\\admin\\appdata\\local\\programs\\python\\python37\\lib\\site-packages (from requests>=2.11.1->tweepy) (1.24.1)\n",
      "Requirement already satisfied: certifi>=2017.4.17 in c:\\users\\admin\\appdata\\local\\programs\\python\\python37\\lib\\site-packages (from requests>=2.11.1->tweepy) (2018.11.29)\n",
      "Collecting oauthlib>=3.0.0 (from requests-oauthlib>=0.7.0->tweepy)\n",
      "  Downloading https://files.pythonhosted.org/packages/05/57/ce2e7a8fa7c0afb54a0581b14a65b56e62b5759dbc98e80627142b8a3704/oauthlib-3.1.0-py2.py3-none-any.whl (147kB)\n",
      "Installing collected packages: oauthlib, requests-oauthlib, PySocks, tweepy\n",
      "Successfully installed PySocks-1.7.1 oauthlib-3.1.0 requests-oauthlib-1.3.0 tweepy-3.8.0\n"
     ]
    },
    {
     "name": "stderr",
     "output_type": "stream",
     "text": [
      "You are using pip version 18.1, however version 20.2b1 is available.\n",
      "You should consider upgrading via the 'python -m pip install --upgrade pip' command.\n"
     ]
    }
   ],
   "source": [
    "!pip install tweepy\n",
    "# Dependencies\n",
    "import tweepy\n",
    "import json\n",
    "import numpy as np\n",
    "import pandas as pd\n",
    "import matplotlib.pyplot as plt\n",
    "import time\n"
   ]
  },
  {
   "cell_type": "code",
   "execution_count": 5,
   "metadata": {},
   "outputs": [
    {
     "name": "stdout",
     "output_type": "stream",
     "text": [
      "Collecting vaderSentiment\n",
      "  Downloading https://files.pythonhosted.org/packages/76/fc/310e16254683c1ed35eeb97386986d6c00bc29df17ce280aed64d55537e9/vaderSentiment-3.3.2-py2.py3-none-any.whl (125kB)\n",
      "Requirement already satisfied: requests in c:\\users\\admin\\appdata\\local\\programs\\python\\python37\\lib\\site-packages (from vaderSentiment) (2.21.0)\n",
      "Requirement already satisfied: urllib3<1.25,>=1.21.1 in c:\\users\\admin\\appdata\\local\\programs\\python\\python37\\lib\\site-packages (from requests->vaderSentiment) (1.24.1)\n",
      "Requirement already satisfied: chardet<3.1.0,>=3.0.2 in c:\\users\\admin\\appdata\\local\\programs\\python\\python37\\lib\\site-packages (from requests->vaderSentiment) (3.0.4)\n",
      "Requirement already satisfied: certifi>=2017.4.17 in c:\\users\\admin\\appdata\\local\\programs\\python\\python37\\lib\\site-packages (from requests->vaderSentiment) (2018.11.29)\n",
      "Requirement already satisfied: idna<2.9,>=2.5 in c:\\users\\admin\\appdata\\local\\programs\\python\\python37\\lib\\site-packages (from requests->vaderSentiment) (2.8)\n",
      "Installing collected packages: vaderSentiment\n",
      "Successfully installed vaderSentiment-3.3.2\n"
     ]
    },
    {
     "name": "stderr",
     "output_type": "stream",
     "text": [
      "You are using pip version 18.1, however version 20.2b1 is available.\n",
      "You should consider upgrading via the 'python -m pip install --upgrade pip' command.\n"
     ]
    }
   ],
   "source": [
    "!pip install vaderSentiment\n",
    "# Import and Initialize Sentiment Analyzer\n",
    "from vaderSentiment.vaderSentiment import SentimentIntensityAnalyzer\n",
    "analyzer = SentimentIntensityAnalyzer()"
   ]
  },
  {
   "cell_type": "code",
   "execution_count": 6,
   "metadata": {},
   "outputs": [],
   "source": [
    "# Twitter API Keys\n",
    "access_token = \"966112597975150592-I6l9SD8IOj3OYmQBkOnNeRLr3lyqsrN\"\n",
    "access_token_secret = \"HR3Eiyfh3kG16zTraLdXCtcNLMhXOdU23UH8cYfNkzRBV\"\n",
    "consumer_key = \"rjQVbO0NyrvcuJDT91752ex11\"\n",
    "consumer_secret = \"zufLHHrPOWN1sF8JocuB36wj4yZWscIwUGwQYkh8TYfCG9aRIG\"\n"
   ]
  },
  {
   "cell_type": "code",
   "execution_count": 7,
   "metadata": {},
   "outputs": [
    {
     "name": "stdout",
     "output_type": "stream",
     "text": [
      "Beginning of extraction of the posted tweets from the media channels\n",
      "Start tweets from @CBS\n",
      "Start tweets from @CTVNews\n",
      "Start tweets from @CNN\n",
      "Start tweets from @FoxNews\n",
      "Start tweets from @nytimes\n",
      "Stop Extraction of Tweets\n"
     ]
    }
   ],
   "source": [
    "# Setup Tweepy API Authentication\n",
    "auth = tweepy.OAuthHandler(consumer_key, consumer_secret)\n",
    "auth.set_access_token(access_token, access_token_secret)\n",
    "api = tweepy.API(auth, parser=tweepy.parsers.JSONParser())\n",
    "\n",
    "# Target Search Term of the various Media channels\n",
    "Media_users = (\"@CBS\", \"@CTVNews\", \"@CNN\",\"@FoxNews\", \"@nytimes\")\n",
    "\n",
    "# Array to hold sentiment\n",
    "Sentiment_array = []\n",
    "\n",
    "# Extracting the first 100 tweets in each Media Channel\n",
    "print(\"Beginning of extraction of the posted tweets from the media channels\")\n",
    "\n",
    "for user in Media_users:\n",
    "    # Setting the tweet count as 100\n",
    "    tweetcount=100\n",
    "    print(\"Start tweets from %s\"%user)\n",
    "    \n",
    "    # Extracting 5 pages of tweets\n",
    "    for x in range(5):\n",
    "        public_tweets=api.user_timeline(user,page=x)\n",
    "        # For each tweet \n",
    "        for tweet in public_tweets:\n",
    "            #Calculating the compound,positive,negative and neutral value for each tweet\n",
    "            compound = analyzer.polarity_scores(tweet[\"text\"])[\"compound\"]\n",
    "            pos = analyzer.polarity_scores(tweet[\"text\"])[\"pos\"]\n",
    "            neu = analyzer.polarity_scores(tweet[\"text\"])[\"neu\"]\n",
    "            neg = analyzer.polarity_scores(tweet[\"text\"])[\"neg\"]\n",
    "            # Store Tweet in Array\n",
    "            Sentiment_array.append({\"Media\":user,\n",
    "                                    \"Tweet Text\":tweet[\"text\"],\n",
    "                                    \"Compound\":compound,\n",
    "                                    \"Positive\":pos,\n",
    "                                    \"Negative\":neg,\n",
    "                                    \"Neutral\":neu,\n",
    "                                    \"Date\":tweet[\"created_at\"],\n",
    "                                    \"Tweets Ago\":tweetcount})\n",
    "            #Decreasing tweet count by 1\n",
    "            tweetcount-=1\n",
    "\n",
    "print(\"Stop Extraction of Tweets\")\n"
   ]
  },
  {
   "cell_type": "code",
   "execution_count": 8,
   "metadata": {},
   "outputs": [
    {
     "data": {
      "text/html": [
       "<div>\n",
       "<style scoped>\n",
       "    .dataframe tbody tr th:only-of-type {\n",
       "        vertical-align: middle;\n",
       "    }\n",
       "\n",
       "    .dataframe tbody tr th {\n",
       "        vertical-align: top;\n",
       "    }\n",
       "\n",
       "    .dataframe thead th {\n",
       "        text-align: right;\n",
       "    }\n",
       "</style>\n",
       "<table border=\"1\" class=\"dataframe\">\n",
       "  <thead>\n",
       "    <tr style=\"text-align: right;\">\n",
       "      <th></th>\n",
       "      <th>Media</th>\n",
       "      <th>Date</th>\n",
       "      <th>Tweet Text</th>\n",
       "      <th>Compound</th>\n",
       "      <th>Positive</th>\n",
       "      <th>Negative</th>\n",
       "      <th>Neutral</th>\n",
       "      <th>Tweets Ago</th>\n",
       "    </tr>\n",
       "  </thead>\n",
       "  <tbody>\n",
       "    <tr>\n",
       "      <th>0</th>\n",
       "      <td>CBS</td>\n",
       "      <td>Sun May 31 17:23:02 +0000 2020</td>\n",
       "      <td>https://t.co/QupBjXGH3L</td>\n",
       "      <td>0.0000</td>\n",
       "      <td>0.000</td>\n",
       "      <td>0.000</td>\n",
       "      <td>1.000</td>\n",
       "      <td>100</td>\n",
       "    </tr>\n",
       "    <tr>\n",
       "      <th>1</th>\n",
       "      <td>CBS</td>\n",
       "      <td>Sat May 30 16:12:28 +0000 2020</td>\n",
       "      <td>RT @etnow: Take a look back at the father-son ...</td>\n",
       "      <td>0.3818</td>\n",
       "      <td>0.102</td>\n",
       "      <td>0.000</td>\n",
       "      <td>0.898</td>\n",
       "      <td>99</td>\n",
       "    </tr>\n",
       "    <tr>\n",
       "      <th>2</th>\n",
       "      <td>CBS</td>\n",
       "      <td>Sat May 30 15:49:26 +0000 2020</td>\n",
       "      <td>It's the special we all need right now. #Hairc...</td>\n",
       "      <td>0.4019</td>\n",
       "      <td>0.144</td>\n",
       "      <td>0.000</td>\n",
       "      <td>0.856</td>\n",
       "      <td>98</td>\n",
       "    </tr>\n",
       "    <tr>\n",
       "      <th>3</th>\n",
       "      <td>CBS</td>\n",
       "      <td>Sat May 30 01:04:41 +0000 2020</td>\n",
       "      <td>RT @RebeccaRomijn: Ta daaaaa!!!!  Thank you @M...</td>\n",
       "      <td>0.5673</td>\n",
       "      <td>0.314</td>\n",
       "      <td>0.000</td>\n",
       "      <td>0.686</td>\n",
       "      <td>97</td>\n",
       "    </tr>\n",
       "    <tr>\n",
       "      <th>4</th>\n",
       "      <td>CBS</td>\n",
       "      <td>Sat May 30 01:00:40 +0000 2020</td>\n",
       "      <td>Thanks for watching #HaircutNightCBS hosted by...</td>\n",
       "      <td>0.8271</td>\n",
       "      <td>0.367</td>\n",
       "      <td>0.000</td>\n",
       "      <td>0.633</td>\n",
       "      <td>96</td>\n",
       "    </tr>\n",
       "    <tr>\n",
       "      <th>5</th>\n",
       "      <td>CBS</td>\n",
       "      <td>Sat May 30 01:00:20 +0000 2020</td>\n",
       "      <td>Sorry, we didn't have time to do your haircut,...</td>\n",
       "      <td>-0.0772</td>\n",
       "      <td>0.000</td>\n",
       "      <td>0.098</td>\n",
       "      <td>0.902</td>\n",
       "      <td>95</td>\n",
       "    </tr>\n",
       "    <tr>\n",
       "      <th>6</th>\n",
       "      <td>CBS</td>\n",
       "      <td>Sat May 30 00:59:00 +0000 2020</td>\n",
       "      <td>This is the kind of drama we need on TV right ...</td>\n",
       "      <td>0.0000</td>\n",
       "      <td>0.000</td>\n",
       "      <td>0.000</td>\n",
       "      <td>1.000</td>\n",
       "      <td>94</td>\n",
       "    </tr>\n",
       "    <tr>\n",
       "      <th>7</th>\n",
       "      <td>CBS</td>\n",
       "      <td>Sat May 30 00:56:04 +0000 2020</td>\n",
       "      <td>When you realize \"The Romijn Event\" is not wha...</td>\n",
       "      <td>0.5267</td>\n",
       "      <td>0.152</td>\n",
       "      <td>0.000</td>\n",
       "      <td>0.848</td>\n",
       "      <td>93</td>\n",
       "    </tr>\n",
       "    <tr>\n",
       "      <th>8</th>\n",
       "      <td>CBS</td>\n",
       "      <td>Sat May 30 00:52:43 +0000 2020</td>\n",
       "      <td>When @RebeccaRomijn and @MrJerryOC signed on t...</td>\n",
       "      <td>0.0000</td>\n",
       "      <td>0.000</td>\n",
       "      <td>0.000</td>\n",
       "      <td>1.000</td>\n",
       "      <td>92</td>\n",
       "    </tr>\n",
       "    <tr>\n",
       "      <th>9</th>\n",
       "      <td>CBS</td>\n",
       "      <td>Sat May 30 00:51:54 +0000 2020</td>\n",
       "      <td>We mean, Girl... We're blown away by @lindsayl...</td>\n",
       "      <td>0.0000</td>\n",
       "      <td>0.000</td>\n",
       "      <td>0.000</td>\n",
       "      <td>1.000</td>\n",
       "      <td>91</td>\n",
       "    </tr>\n",
       "  </tbody>\n",
       "</table>\n",
       "</div>"
      ],
      "text/plain": [
       "  Media                            Date  \\\n",
       "0   CBS  Sun May 31 17:23:02 +0000 2020   \n",
       "1   CBS  Sat May 30 16:12:28 +0000 2020   \n",
       "2   CBS  Sat May 30 15:49:26 +0000 2020   \n",
       "3   CBS  Sat May 30 01:04:41 +0000 2020   \n",
       "4   CBS  Sat May 30 01:00:40 +0000 2020   \n",
       "5   CBS  Sat May 30 01:00:20 +0000 2020   \n",
       "6   CBS  Sat May 30 00:59:00 +0000 2020   \n",
       "7   CBS  Sat May 30 00:56:04 +0000 2020   \n",
       "8   CBS  Sat May 30 00:52:43 +0000 2020   \n",
       "9   CBS  Sat May 30 00:51:54 +0000 2020   \n",
       "\n",
       "                                          Tweet Text  Compound  Positive  \\\n",
       "0                            https://t.co/QupBjXGH3L    0.0000     0.000   \n",
       "1  RT @etnow: Take a look back at the father-son ...    0.3818     0.102   \n",
       "2  It's the special we all need right now. #Hairc...    0.4019     0.144   \n",
       "3  RT @RebeccaRomijn: Ta daaaaa!!!!  Thank you @M...    0.5673     0.314   \n",
       "4  Thanks for watching #HaircutNightCBS hosted by...    0.8271     0.367   \n",
       "5  Sorry, we didn't have time to do your haircut,...   -0.0772     0.000   \n",
       "6  This is the kind of drama we need on TV right ...    0.0000     0.000   \n",
       "7  When you realize \"The Romijn Event\" is not wha...    0.5267     0.152   \n",
       "8  When @RebeccaRomijn and @MrJerryOC signed on t...    0.0000     0.000   \n",
       "9  We mean, Girl... We're blown away by @lindsayl...    0.0000     0.000   \n",
       "\n",
       "   Negative  Neutral  Tweets Ago  \n",
       "0     0.000    1.000         100  \n",
       "1     0.000    0.898          99  \n",
       "2     0.000    0.856          98  \n",
       "3     0.000    0.686          97  \n",
       "4     0.000    0.633          96  \n",
       "5     0.098    0.902          95  \n",
       "6     0.000    1.000          94  \n",
       "7     0.000    0.848          93  \n",
       "8     0.000    1.000          92  \n",
       "9     0.000    1.000          91  "
      ]
     },
     "execution_count": 8,
     "metadata": {},
     "output_type": "execute_result"
    }
   ],
   "source": [
    "# Creating a dataframe from the Sentiment Array\n",
    "Sentiment_DF=pd.DataFrame.from_dict(Sentiment_array)\n",
    "# Removing the '@' from Media column in the data frame\n",
    "Sentiment_DF['Media'] = Sentiment_DF['Media'].map(lambda x: x.lstrip('@'))\n",
    "\n",
    "# Re_arranging the order of columns before saving into CSV file\n",
    "Sentiment_DF=Sentiment_DF[[\"Media\",\"Date\",\"Tweet Text\",\"Compound\",\"Positive\",\"Negative\",\"Neutral\",\"Tweets Ago\"]]\n",
    "# Storing into a CSV File\\\n",
    "Sentiment_DF.to_csv(\"Output/Media_SentimentAnalysis.csv\")\n",
    "\n",
    "Sentiment_DF.head(10)\n",
    "\n",
    "\n"
   ]
  },
  {
   "cell_type": "code",
   "execution_count": 9,
   "metadata": {},
   "outputs": [
    {
     "data": {
      "text/plain": [
       "array(['CBS', 'CTVNews', 'CNN', 'FoxNews', 'nytimes'], dtype=object)"
      ]
     },
     "execution_count": 9,
     "metadata": {},
     "output_type": "execute_result"
    }
   ],
   "source": [
    "# Creating an array with the unique Media sources in the data frame\n",
    "Media_Source=Sentiment_DF[\"Media\"].unique()\n",
    "Media_Source"
   ]
  },
  {
   "cell_type": "code",
   "execution_count": 10,
   "metadata": {},
   "outputs": [
    {
     "data": {
      "image/png": "[encoded data removed]",
      "text/plain": [
       "<Figure size 432x288 with 1 Axes>"
      ]
     },
     "metadata": {
      "needs_background": "light"
     },
     "output_type": "display_data"
    }
   ],
   "source": [
    "#Plotting the graph for each media source\n",
    "for media in Media_Source:\n",
    "    # Creating a temporary data frame to store for only one media channel at a time\n",
    "    Temp_DF=Sentiment_DF[Sentiment_DF[\"Media\"]==media]\n",
    "    plt.scatter(Temp_DF[\"Tweets Ago\"],Temp_DF[\"Compound\"], marker=\"o\", linewidth=0, alpha=0.8, label=media,\n",
    "                facecolors=Temp_DF.Media.map({\"CBS\": \"pink\", \"CTVNews\" : \"purple\",  \"CNN\": 'red',\n",
    "                                              \"FoxNews\":\"blue\",\"nytimes\":\"yellow\"}))"
   ]
  },
  {
   "cell_type": "code",
   "execution_count": 11,
   "metadata": {},
   "outputs": [
    {
     "name": "stderr",
     "output_type": "stream",
     "text": [
      "No handles with labels found to put in legend.\n"
     ]
    },
    {
     "data": {
      "image/png": "[encoded data removed]",
      "text/plain": [
       "<Figure size 432x288 with 1 Axes>"
      ]
     },
     "metadata": {
      "needs_background": "light"
     },
     "output_type": "display_data"
    }
   ],
   "source": [
    "#plt.hlines(0,0,np.arange(len(Sentiment_DF[\"Compound\"])),alpha=1)\n",
    "# Setting the legend \n",
    "plt.legend(bbox_to_anchor = (1,1),title=\"Media Sources\")\n",
    "# Setting the title,x_axis and y_axis labels\n",
    "plt.title(\"Sentiment Analysis of Media Tweets (%s)\" % (time.strftime(\"%x\")), fontsize=14)\n",
    "plt.xlabel(\"Tweets Ago\")\n",
    "plt.ylabel(\"Tweet Polarity\")\n",
    "\n",
    "#Setting the x_axis and y_axis limits\n",
    "plt.xlim(101,0)\n",
    "plt.ylim(-1,1)\n",
    "# Setting the grid\n",
    "plt.grid(True)\n",
    "\n",
    "# Saving the figue\n",
    "plt.savefig(\"Output/Sentiment Analysis of Media Tweets.png\",bbox_inches='tight')\n",
    "\n",
    "plt.show()"
   ]
  },
  {
   "cell_type": "code",
   "execution_count": 12,
   "metadata": {},
   "outputs": [
    {
     "data": {
      "text/html": [
       "<div>\n",
       "<style scoped>\n",
       "    .dataframe tbody tr th:only-of-type {\n",
       "        vertical-align: middle;\n",
       "    }\n",
       "\n",
       "    .dataframe tbody tr th {\n",
       "        vertical-align: top;\n",
       "    }\n",
       "\n",
       "    .dataframe thead th {\n",
       "        text-align: right;\n",
       "    }\n",
       "</style>\n",
       "<table border=\"1\" class=\"dataframe\">\n",
       "  <thead>\n",
       "    <tr style=\"text-align: right;\">\n",
       "      <th></th>\n",
       "      <th>Media</th>\n",
       "      <th>Compound</th>\n",
       "    </tr>\n",
       "  </thead>\n",
       "  <tbody>\n",
       "    <tr>\n",
       "      <th>0</th>\n",
       "      <td>CBS</td>\n",
       "      <td>0.217150</td>\n",
       "    </tr>\n",
       "    <tr>\n",
       "      <th>1</th>\n",
       "      <td>CNN</td>\n",
       "      <td>-0.165524</td>\n",
       "    </tr>\n",
       "    <tr>\n",
       "      <th>2</th>\n",
       "      <td>CTVNews</td>\n",
       "      <td>-0.142087</td>\n",
       "    </tr>\n",
       "    <tr>\n",
       "      <th>3</th>\n",
       "      <td>FoxNews</td>\n",
       "      <td>0.000000</td>\n",
       "    </tr>\n",
       "    <tr>\n",
       "      <th>4</th>\n",
       "      <td>nytimes</td>\n",
       "      <td>-0.098574</td>\n",
       "    </tr>\n",
       "  </tbody>\n",
       "</table>\n",
       "</div>"
      ],
      "text/plain": [
       "     Media  Compound\n",
       "0      CBS  0.217150\n",
       "1      CNN -0.165524\n",
       "2  CTVNews -0.142087\n",
       "3  FoxNews  0.000000\n",
       "4  nytimes -0.098574"
      ]
     },
     "execution_count": 12,
     "metadata": {},
     "output_type": "execute_result"
    }
   ],
   "source": [
    "# Calculating the mean for each Media channel and storing to a dataframe\n",
    "Media_Compound_Means=Sentiment_DF.groupby(\"Media\").mean()[\"Compound\"].to_frame()\n",
    "#Resetting the index \n",
    "Media_Compound_Means.reset_index(inplace=True)\n",
    "\n",
    "Media_Compound_Means\n"
   ]
  },
  {
   "cell_type": "code",
   "execution_count": null,
   "metadata": {},
   "outputs": [],
   "source": []
  },
  {
   "cell_type": "code",
   "execution_count": null,
   "metadata": {},
   "outputs": [],
   "source": []
  }
 ],
 "metadata": {
  "kernelspec": {
   "display_name": "Python 3",
   "language": "python",
   "name": "python3"
  },
  "language_info": {
   "codemirror_mode": {
    "name": "ipython",
    "version": 3
   },
   "file_extension": ".py",
   "mimetype": "text/x-python",
   "name": "python",
   "nbconvert_exporter": "python",
   "pygments_lexer": "ipython3",
   "version": "3.7.2"
  }
 },
 "nbformat": 4,
 "nbformat_minor": 2
}
