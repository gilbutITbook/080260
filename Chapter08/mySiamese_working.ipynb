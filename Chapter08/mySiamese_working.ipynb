{
  "nbformat": 4,
  "nbformat_minor": 0,
  "metadata": {
    "colab": {
      "name": "mySiamese_working.ipynb",
      "provenance": [],
      "collapsed_sections": []
    },
    "kernelspec": {
      "name": "python3",
      "display_name": "Python 3"
    }
  },
  "cells": [
    {
      "cell_type": "markdown",
      "metadata": {
        "id": "h7AczkfwqjjV",
        "colab_type": "text"
      },
      "source": [
        ""
      ]
    },
    {
      "cell_type": "markdown",
      "metadata": {
        "id": "2rupy38kqrlo",
        "colab_type": "text"
      },
      "source": [
        "# Siamese Netowrks\n",
        " Keras to implement a simple example of Siamese networks, which will verify whether two MNIST images are from the same class or not"
      ]
    },
    {
      "cell_type": "markdown",
      "metadata": {
        "id": "WzbZT_SjqbdB",
        "colab_type": "text"
      },
      "source": [
        "Start with the import statements:"
      ]
    },
    {
      "cell_type": "code",
      "metadata": {
        "id": "BtHauCbhQSIe",
        "colab_type": "code",
        "colab": {}
      },
      "source": [
        "import random\n",
        "import numpy as np\n",
        "import tensorflow as tf"
      ],
      "execution_count": 0,
      "outputs": []
    },
    {
      "cell_type": "markdown",
      "metadata": {
        "id": "9EBK8PigwEEq",
        "colab_type": "text"
      },
      "source": [
        "Next, we'll implement the prepareData function to create the train/test dataset (both for training and testing):"
      ]
    },
    {
      "cell_type": "code",
      "metadata": {
        "id": "mY8AogCiQXeM",
        "colab_type": "code",
        "colab": {}
      },
      "source": [
        "def prepareData(inputs: np.ndarray, labels: np.ndarray):\n",
        "      classesNumbers = 10\n",
        "      digitalIdx = [np.where(labels == i)[0] for i in range(classesNumbers)]\n",
        "      pairs = list()\n",
        "      labels = list()\n",
        "      n = min([len(digitalIdx[d]) for d in range(classesNumbers)]) - 1\n",
        "      for d in range(classesNumbers):\n",
        "        for i in range(n):\n",
        "            z1, z2 = digitalIdx[d][i], digitalIdx[d][i + 1]\n",
        "            pairs += [[inputs[z1], inputs[z2]]]\n",
        "            inc = random.randrange(1, classesNumbers)\n",
        "            dn = (d + inc) % classesNumbers\n",
        "            z1, z2 = digitalIdx[d][i], digitalIdx[dn][i]\n",
        "            pairs += [[inputs[z1], inputs[z2]]]\n",
        "            labels += [1, 0]    \n",
        "      return np.array(pairs), np.array(labels, dtype=np.float32)"
      ],
      "execution_count": 0,
      "outputs": []
    },
    {
      "cell_type": "markdown",
      "metadata": {
        "id": "4PuTgE6DwRfR",
        "colab_type": "text"
      },
      "source": [
        "Next, let's implement the createTemplate function, which defines one branch of the Siamese network:"
      ]
    },
    {
      "cell_type": "code",
      "metadata": {
        "id": "wehEGEkWRp7P",
        "colab_type": "code",
        "colab": {}
      },
      "source": [
        "def createTemplate():\n",
        "      return tf.keras.models.Sequential([\n",
        "        tf.keras.layers.Flatten(),\n",
        "        tf.keras.layers.Dense(128, activation='relu'),\n",
        "        tf.keras.layers.Dropout(0.15),\n",
        "        tf.keras.layers.Dense(128, activation='relu'),\n",
        "        tf.keras.layers.Dropout(0.15),\n",
        "        tf.keras.layers.Dense(64, activation='relu'),    \n",
        "        ])"
      ],
      "execution_count": 0,
      "outputs": []
    },
    {
      "cell_type": "markdown",
      "metadata": {
        "id": "UMw0fneFwcdl",
        "colab_type": "text"
      },
      "source": [
        "Next, let's build the whole training system, starting from the MNIST dataset:"
      ]
    },
    {
      "cell_type": "code",
      "metadata": {
        "id": "n6IVR4pLSJ8Z",
        "colab_type": "code",
        "colab": {}
      },
      "source": [
        "(x_train, y_train), (x_test, y_test) = tf.keras.datasets.mnist.load_data()\n",
        "x_train = x_train.astype(np.float32)\n",
        "x_test = x_test.astype(np.float32)\n",
        "x_train /= 255\n",
        "x_test /= 255\n",
        "input_shape = x_train.shape[1:]"
      ],
      "execution_count": 0,
      "outputs": []
    },
    {
      "cell_type": "markdown",
      "metadata": {
        "id": "6roaL5NwwkQO",
        "colab_type": "text"
      },
      "source": [
        "We'll use the raw dataset to create the actual train and test verification datasets:"
      ]
    },
    {
      "cell_type": "code",
      "metadata": {
        "id": "3d3DxhI2Uk3b",
        "colab_type": "code",
        "colab": {}
      },
      "source": [
        "train_pairs, tr_labels = prepareData(x_train, y_train)\n",
        "test_pairs, test_labels = prepareData(x_test, y_test)"
      ],
      "execution_count": 0,
      "outputs": []
    },
    {
      "cell_type": "markdown",
      "metadata": {
        "id": "1cUXgdhJwpoE",
        "colab_type": "text"
      },
      "source": [
        "Then, we'll build the base portion of the Siamese network:"
      ]
    },
    {
      "cell_type": "code",
      "metadata": {
        "id": "INMfl1Q7UpGg",
        "colab_type": "code",
        "colab": {}
      },
      "source": [
        "base_network = createTemplate()"
      ],
      "execution_count": 0,
      "outputs": []
    },
    {
      "cell_type": "markdown",
      "metadata": {
        "id": "w14amWufwvwu",
        "colab_type": "text"
      },
      "source": [
        "Next, let's create the two branches:"
      ]
    },
    {
      "cell_type": "code",
      "metadata": {
        "id": "gLy_fpIFUsOg",
        "colab_type": "code",
        "colab": {}
      },
      "source": [
        "# Create first half of the siamese system\n",
        "input_a = tf.keras.layers.Input(shape=input_shape)\n",
        "# Note how we reuse the base_network in both halfs\n",
        "enconder1 = base_network(input_a)\n",
        "# Create the second half of the siamese system\n",
        "input_b = tf.keras.layers.Input(shape=input_shape)\n",
        "enconder2 = base_network(input_b)"
      ],
      "execution_count": 0,
      "outputs": []
    },
    {
      "cell_type": "markdown",
      "metadata": {
        "id": "EC6E8AUZw1fj",
        "colab_type": "text"
      },
      "source": [
        "Next, we'll create the measure of similarity, which uses the outputs of enconder1 and enconder2. It is implemented as a tf.keras.layers.Lambda layer:"
      ]
    },
    {
      "cell_type": "code",
      "metadata": {
        "id": "pysaqMInU7CV",
        "colab_type": "code",
        "colab": {}
      },
      "source": [
        "distance = tf.keras.layers.Lambda(    \n",
        "    lambda embeddings: tf.keras.backend.abs(embeddings[0] - embeddings[1])) \\\n",
        "    ([enconder1, enconder2])"
      ],
      "execution_count": 0,
      "outputs": []
    },
    {
      "cell_type": "markdown",
      "metadata": {
        "id": "kAryOk8Dw8My",
        "colab_type": "text"
      },
      "source": [
        "Then, we'll create the final fully connected layer, which takes the output of the distance and compresses it to a single sigmoid output:"
      ]
    },
    {
      "cell_type": "code",
      "metadata": {
        "id": "XGPNBafkVFR2",
        "colab_type": "code",
        "colab": {}
      },
      "source": [
        "measureOfSimilarity = tf.keras.layers.Dense(1, activation='sigmoid') (distance)"
      ],
      "execution_count": 0,
      "outputs": []
    },
    {
      "cell_type": "markdown",
      "metadata": {
        "id": "WENeMx81xCTH",
        "colab_type": "text"
      },
      "source": [
        "Finally, we can build the model and initiate the training for 10 epochs:"
      ]
    },
    {
      "cell_type": "code",
      "metadata": {
        "id": "HdeDKt_bVLOf",
        "colab_type": "code",
        "outputId": "fabd9401-1962-4aeb-9d42-0d54fdf5773e",
        "colab": {
          "base_uri": "https://localhost:8080/",
          "height": 381
        }
      },
      "source": [
        "# Build the model\n",
        "model = tf.keras.models.Model([input_a, input_b], measureOfSimilarity)\n",
        "# Train\n",
        "model.compile(loss='binary_crossentropy',optimizer=tf.keras.optimizers.Adam(),metrics=['accuracy'])\n",
        "\n",
        "model.fit([train_pairs[:, 0], train_pairs[:, 1]], tr_labels,          \n",
        "          batch_size=128,epochs=10,validation_data=([test_pairs[:, 0], test_pairs[:, 1]], test_labels))"
      ],
      "execution_count": 10,
      "outputs": [
        {
          "output_type": "stream",
          "text": [
            "Epoch 1/10\n",
            "847/847 [==============================] - 6s 7ms/step - loss: 0.3459 - accuracy: 0.8500 - val_loss: 0.2652 - val_accuracy: 0.9105\n",
            "Epoch 2/10\n",
            "847/847 [==============================] - 6s 7ms/step - loss: 0.1773 - accuracy: 0.9337 - val_loss: 0.1685 - val_accuracy: 0.9508\n",
            "Epoch 3/10\n",
            "847/847 [==============================] - 6s 7ms/step - loss: 0.1215 - accuracy: 0.9563 - val_loss: 0.1301 - val_accuracy: 0.9610\n",
            "Epoch 4/10\n",
            "847/847 [==============================] - 6s 7ms/step - loss: 0.0956 - accuracy: 0.9665 - val_loss: 0.1087 - val_accuracy: 0.9685\n",
            "Epoch 5/10\n",
            "847/847 [==============================] - 6s 7ms/step - loss: 0.0790 - accuracy: 0.9724 - val_loss: 0.1104 - val_accuracy: 0.9669\n",
            "Epoch 6/10\n",
            "847/847 [==============================] - 6s 7ms/step - loss: 0.0649 - accuracy: 0.9770 - val_loss: 0.0949 - val_accuracy: 0.9715\n",
            "Epoch 7/10\n",
            "847/847 [==============================] - 6s 7ms/step - loss: 0.0568 - accuracy: 0.9803 - val_loss: 0.0895 - val_accuracy: 0.9722\n",
            "Epoch 8/10\n",
            "847/847 [==============================] - 6s 7ms/step - loss: 0.0513 - accuracy: 0.9823 - val_loss: 0.0807 - val_accuracy: 0.9770\n",
            "Epoch 9/10\n",
            "847/847 [==============================] - 6s 7ms/step - loss: 0.0439 - accuracy: 0.9847 - val_loss: 0.0916 - val_accuracy: 0.9737\n",
            "Epoch 10/10\n",
            "847/847 [==============================] - 6s 7ms/step - loss: 0.0417 - accuracy: 0.9853 - val_loss: 0.0835 - val_accuracy: 0.9749\n"
          ],
          "name": "stdout"
        },
        {
          "output_type": "execute_result",
          "data": {
            "text/plain": [
              "<tensorflow.python.keras.callbacks.History at 0x7ff1218297b8>"
            ]
          },
          "metadata": {
            "tags": []
          },
          "execution_count": 10
        }
      ]
    },
    {
      "cell_type": "code",
      "metadata": {
        "id": "Wv0VRH2IVmCj",
        "colab_type": "code",
        "colab": {}
      },
      "source": [
        ""
      ],
      "execution_count": 0,
      "outputs": []
    }
  ]
}