{
 "cells": [
  {
   "cell_type": "code",
   "execution_count": 3,
   "metadata": {
    "colab": {},
    "colab_type": "code",
    "id": "Pec01KsTE3Jh"
   },
   "outputs": [
    {
     "name": "stdout",
     "output_type": "stream",
     "text": [
      "Collecting cupy\n",
      "  Using cached https://files.pythonhosted.org/packages/e8/6c/8e9be391b761b0f92fa83ea654e5f6b828c1b6c52990c37231bf2dd33c58/cupy-7.5.0.tar.gz\n",
      "    Complete output from command python setup.py egg_info:\n",
      "    Options: {'package_name': 'cupy', 'long_description': None, 'wheel_libs': [], 'wheel_includes': [], 'no_rpath': False, 'profile': False, 'linetrace': False, 'annotate': False, 'no_cuda': False, 'use_hip': False}\n",
      "    \n",
      "    -------- Configuring Module: cuda --------\n",
      "    a.cpp\n",
      "    C:\\Users\\Admin\\AppData\\Local\\Temp\\tmpsytlx2r7\\a.cpp(1): fatal error C1083: Cannot open include file: 'cublas_v2.h': No such file or directory\n",
      "    command 'C:\\\\Program Files (x86)\\\\Microsoft Visual Studio 14.0\\\\VC\\\\BIN\\\\x86_amd64\\\\cl.exe' failed with exit status 2\n",
      "    \n",
      "    ************************************************************\n",
      "    * CuPy Configuration Summary                               *\n",
      "    ************************************************************\n",
      "    \n",
      "    Build Environment:\n",
      "      Include directories: []\n",
      "      Library directories: []\n",
      "      nvcc command       : (not found)\n",
      "    \n",
      "    Environment Variables:\n",
      "      CFLAGS          : (none)\n",
      "      LDFLAGS         : (none)\n",
      "      LIBRARY_PATH    : (none)\n",
      "      CUDA_PATH       : (none)\n",
      "      NVTOOLSEXT_PATH : (none)\n",
      "      NVCC            : (none)\n",
      "      ROCM_HOME       : (none)\n",
      "    \n",
      "    Modules:\n",
      "      cuda      : No\n",
      "        -> Include files not found: ['cublas_v2.h', 'cuda.h', 'cuda_profiler_api.h', 'cuda_runtime.h', 'cufft.h', 'curand.h', 'cusparse.h', 'nvrtc.h']\n",
      "        -> Check your CFLAGS environment variable.\n",
      "    \n",
      "    ERROR: CUDA could not be found on your system.\n",
      "    Please refer to the Installation Guide for details:\n",
      "    https://docs-cupy.chainer.org/en/stable/install.html\n",
      "    \n",
      "    ************************************************************\n",
      "    \n",
      "    Traceback (most recent call last):\n",
      "      File \"<string>\", line 1, in <module>\n",
      "      File \"C:\\Users\\Admin\\AppData\\Local\\Temp\\pip-install-nif3sw2w\\cupy\\setup.py\", line 129, in <module>\n",
      "        ext_modules = cupy_setup_build.get_ext_modules()\n",
      "      File \"C:\\Users\\Admin\\AppData\\Local\\Temp\\pip-install-nif3sw2w\\cupy\\cupy_setup_build.py\", line 744, in get_ext_modules\n",
      "        extensions = make_extensions(arg_options, compiler, use_cython)\n",
      "      File \"C:\\Users\\Admin\\AppData\\Local\\Temp\\pip-install-nif3sw2w\\cupy\\cupy_setup_build.py\", line 492, in make_extensions\n",
      "        raise Exception('Your CUDA environment is invalid. '\n",
      "    Exception: Your CUDA environment is invalid. Please check above error log.\n",
      "    \n",
      "    ----------------------------------------\n"
     ]
    },
    {
     "name": "stderr",
     "output_type": "stream",
     "text": [
      "Command \"python setup.py egg_info\" failed with error code 1 in C:\\Users\\Admin\\AppData\\Local\\Temp\\pip-install-nif3sw2w\\cupy\\\n",
      "You are using pip version 18.1, however version 20.2b1 is available.\n",
      "You should consider upgrading via the 'python -m pip install --upgrade pip' command.\n"
     ]
    },
    {
     "ename": "ModuleNotFoundError",
     "evalue": "No module named 'cupy'",
     "output_type": "error",
     "traceback": [
      "\u001b[1;31m---------------------------------------------------------------------------\u001b[0m",
      "\u001b[1;31mModuleNotFoundError\u001b[0m                       Traceback (most recent call last)",
      "\u001b[1;32m<ipython-input-3-80d93f804bd6>\u001b[0m in \u001b[0;36m<module>\u001b[1;34m\u001b[0m\n\u001b[0;32m      1\u001b[0m \u001b[0mget_ipython\u001b[0m\u001b[1;33m(\u001b[0m\u001b[1;33m)\u001b[0m\u001b[1;33m.\u001b[0m\u001b[0msystem\u001b[0m\u001b[1;33m(\u001b[0m\u001b[1;34m'pip install cupy'\u001b[0m\u001b[1;33m)\u001b[0m\u001b[1;33m\u001b[0m\u001b[1;33m\u001b[0m\u001b[0m\n\u001b[0;32m      2\u001b[0m \u001b[1;32mimport\u001b[0m \u001b[0mnumpy\u001b[0m \u001b[1;32mas\u001b[0m \u001b[0mnp\u001b[0m\u001b[1;33m\u001b[0m\u001b[1;33m\u001b[0m\u001b[0m\n\u001b[1;32m----> 3\u001b[1;33m \u001b[1;32mimport\u001b[0m \u001b[0mcupy\u001b[0m \u001b[1;32mas\u001b[0m \u001b[0mcp\u001b[0m\u001b[1;33m\u001b[0m\u001b[1;33m\u001b[0m\u001b[0m\n\u001b[0m\u001b[0;32m      4\u001b[0m \u001b[1;32mimport\u001b[0m \u001b[0mtime\u001b[0m\u001b[1;33m\u001b[0m\u001b[1;33m\u001b[0m\u001b[0m\n",
      "\u001b[1;31mModuleNotFoundError\u001b[0m: No module named 'cupy'"
     ]
    }
   ],
   "source": [
    "!pip install cupy\n",
    "import numpy as np\n",
    "import cupy as cp\n",
    "import time\n"
   ]
  },
  {
   "cell_type": "code",
   "execution_count": null,
   "metadata": {
    "colab": {
     "base_uri": "https://localhost:8080/",
     "height": 52
    },
    "colab_type": "code",
    "id": "ouM8I6_1FBUi",
    "outputId": "7b194e8d-9318-4f3b-a04a-7a0385dbceaa"
   },
   "outputs": [],
   "source": [
    "### Running at CPU using Numpy\n",
    "start_time = time.time()\n",
    "myvar_cpu = np.ones((800,800,800))\n",
    "end_time = time.time()\n",
    "print(end_time - start_time)\n",
    "\n",
    "### Running at GPU using CuPy\n",
    "start_time = time.time()\n",
    "myvar_gpu = cp.ones((800,800,800))\n",
    "cp.cuda.Stream.null.synchronize()\n",
    "end_time = time.time()\n",
    "print(end_time - start_time)"
   ]
  }
 ],
 "metadata": {
  "accelerator": "GPU",
  "colab": {
   "machine_shape": "hm",
   "name": "CUDA.ipynb",
   "provenance": []
  },
  "kernelspec": {
   "display_name": "Python 3",
   "language": "python",
   "name": "python3"
  },
  "language_info": {
   "codemirror_mode": {
    "name": "ipython",
    "version": 3
   },
   "file_extension": ".py",
   "mimetype": "text/x-python",
   "name": "python",
   "nbconvert_exporter": "python",
   "pygments_lexer": "ipython3",
   "version": "3.7.2"
  }
 },
 "nbformat": 4,
 "nbformat_minor": 1
}
