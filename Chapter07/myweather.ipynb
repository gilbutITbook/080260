{
 "cells": [
  {
   "cell_type": "code",
   "execution_count": 4,
   "metadata": {},
   "outputs": [
    {
     "name": "stdout",
     "output_type": "stream",
     "text": [
      "Collecting lime\n",
      "  Downloading lime-0.2.0.0.tar.gz (274 kB)\n",
      "\u001b[K     |████████████████████████████████| 274 kB 2.1 MB/s eta 0:00:01\n",
      "\u001b[?25hRequirement already satisfied: matplotlib in /opt/conda/lib/python3.7/site-packages (from lime) (3.1.2)\n",
      "Requirement already satisfied: numpy in /opt/conda/lib/python3.7/site-packages (from lime) (1.18.1)\n",
      "Requirement already satisfied: scipy in /opt/conda/lib/python3.7/site-packages (from lime) (1.4.1)\n",
      "Requirement already satisfied: tqdm in /opt/conda/lib/python3.7/site-packages (from lime) (4.43.0)\n",
      "Collecting pillow==5.4.1\n",
      "  Downloading Pillow-5.4.1-cp37-cp37m-manylinux1_x86_64.whl (2.0 MB)\n",
      "\u001b[K     |████████████████████████████████| 2.0 MB 34.2 MB/s eta 0:00:01\n",
      "\u001b[?25hRequirement already satisfied: scikit-learn>=0.18 in /opt/conda/lib/python3.7/site-packages (from lime) (0.21.3)\n",
      "Requirement already satisfied: scikit-image>=0.12 in /opt/conda/lib/python3.7/site-packages (from lime) (0.15.0)\n",
      "Requirement already satisfied: pyparsing!=2.0.4,!=2.1.2,!=2.1.6,>=2.0.1 in /opt/conda/lib/python3.7/site-packages (from matplotlib->lime) (2.4.6)\n",
      "Requirement already satisfied: cycler>=0.10 in /opt/conda/lib/python3.7/site-packages (from matplotlib->lime) (0.10.0)\n",
      "Requirement already satisfied: kiwisolver>=1.0.1 in /opt/conda/lib/python3.7/site-packages (from matplotlib->lime) (1.1.0)\n",
      "Requirement already satisfied: python-dateutil>=2.1 in /opt/conda/lib/python3.7/site-packages (from matplotlib->lime) (2.8.1)\n",
      "Requirement already satisfied: joblib>=0.11 in /opt/conda/lib/python3.7/site-packages (from scikit-learn>=0.18->lime) (0.14.1)\n",
      "Requirement already satisfied: networkx>=2.0 in /opt/conda/lib/python3.7/site-packages (from scikit-image>=0.12->lime) (2.4)\n",
      "Requirement already satisfied: imageio>=2.0.1 in /opt/conda/lib/python3.7/site-packages (from scikit-image>=0.12->lime) (2.8.0)\n",
      "Requirement already satisfied: PyWavelets>=0.4.0 in /opt/conda/lib/python3.7/site-packages (from scikit-image>=0.12->lime) (1.1.1)\n",
      "Requirement already satisfied: six in /opt/conda/lib/python3.7/site-packages (from cycler>=0.10->matplotlib->lime) (1.14.0)\n",
      "Requirement already satisfied: setuptools in /opt/conda/lib/python3.7/site-packages (from kiwisolver>=1.0.1->matplotlib->lime) (45.2.0.post20200209)\n",
      "Requirement already satisfied: decorator>=4.3.0 in /opt/conda/lib/python3.7/site-packages (from networkx>=2.0->scikit-image>=0.12->lime) (4.4.2)\n",
      "Building wheels for collected packages: lime\n",
      "  Building wheel for lime (setup.py) ... \u001b[?25ldone\n",
      "\u001b[?25h  Created wheel for lime: filename=lime-0.2.0.0-py3-none-any.whl size=284180 sha256=6fdc6740e8501ad0b2b8a779bdc154e1910823b386671eeeddf8439b871070a7\n",
      "  Stored in directory: /home/iahmad/.cache/pip/wheels/05/1a/3f/6b78b5cf3a5b8ed95a487c2539755c9e97907e53594dfe8e35\n",
      "Successfully built lime\n",
      "Installing collected packages: pillow, lime\n",
      "  Attempting uninstall: pillow\n",
      "    Found existing installation: Pillow 7.0.0\n",
      "    Uninstalling Pillow-7.0.0:\n",
      "      Successfully uninstalled Pillow-7.0.0\n",
      "Successfully installed lime-0.2.0.0 pillow-5.4.1\n"
     ]
    }
   ],
   "source": [
    "import numpy as np \n",
    "import pandas as pd\n",
    "from matplotlib import pyplot as plt"
   ]
  },
  {
   "cell_type": "code",
   "execution_count": 2,
   "metadata": {},
   "outputs": [],
   "source": [
    "df = pd.read_csv(\"weather.csv\")"
   ]
  },
  {
   "cell_type": "code",
   "execution_count": 3,
   "metadata": {},
   "outputs": [
    {
     "data": {
      "text/html": [
       "<div>\n",
       "<style scoped>\n",
       "    .dataframe tbody tr th:only-of-type {\n",
       "        vertical-align: middle;\n",
       "    }\n",
       "\n",
       "    .dataframe tbody tr th {\n",
       "        vertical-align: top;\n",
       "    }\n",
       "\n",
       "    .dataframe thead th {\n",
       "        text-align: right;\n",
       "    }\n",
       "</style>\n",
       "<table border=\"1\" class=\"dataframe\">\n",
       "  <thead>\n",
       "    <tr style=\"text-align: right;\">\n",
       "      <th></th>\n",
       "      <th>Date</th>\n",
       "      <th>MinTemp</th>\n",
       "      <th>MaxTemp</th>\n",
       "      <th>Rainfall</th>\n",
       "      <th>Evaporation</th>\n",
       "      <th>Sunshine</th>\n",
       "      <th>WindGustDir</th>\n",
       "      <th>WindGustSpeed</th>\n",
       "      <th>WindDir9am</th>\n",
       "      <th>WindDir3pm</th>\n",
       "      <th>...</th>\n",
       "      <th>Humidity3pm</th>\n",
       "      <th>Pressure9am</th>\n",
       "      <th>Pressure3pm</th>\n",
       "      <th>Cloud9am</th>\n",
       "      <th>Cloud3pm</th>\n",
       "      <th>Temp9am</th>\n",
       "      <th>Temp3pm</th>\n",
       "      <th>RainToday</th>\n",
       "      <th>RISK_MM</th>\n",
       "      <th>RainTomorrow</th>\n",
       "    </tr>\n",
       "  </thead>\n",
       "  <tbody>\n",
       "    <tr>\n",
       "      <th>0</th>\n",
       "      <td>2007-11-01</td>\n",
       "      <td>8.0</td>\n",
       "      <td>24.3</td>\n",
       "      <td>0.0</td>\n",
       "      <td>3.4</td>\n",
       "      <td>6.3</td>\n",
       "      <td>NW</td>\n",
       "      <td>30.0</td>\n",
       "      <td>SW</td>\n",
       "      <td>NW</td>\n",
       "      <td>...</td>\n",
       "      <td>29</td>\n",
       "      <td>1019.7</td>\n",
       "      <td>1015.0</td>\n",
       "      <td>7</td>\n",
       "      <td>7</td>\n",
       "      <td>14.4</td>\n",
       "      <td>23.6</td>\n",
       "      <td>No</td>\n",
       "      <td>3.6</td>\n",
       "      <td>Yes</td>\n",
       "    </tr>\n",
       "    <tr>\n",
       "      <th>1</th>\n",
       "      <td>2007-11-02</td>\n",
       "      <td>14.0</td>\n",
       "      <td>26.9</td>\n",
       "      <td>3.6</td>\n",
       "      <td>4.4</td>\n",
       "      <td>9.7</td>\n",
       "      <td>ENE</td>\n",
       "      <td>39.0</td>\n",
       "      <td>E</td>\n",
       "      <td>W</td>\n",
       "      <td>...</td>\n",
       "      <td>36</td>\n",
       "      <td>1012.4</td>\n",
       "      <td>1008.4</td>\n",
       "      <td>5</td>\n",
       "      <td>3</td>\n",
       "      <td>17.5</td>\n",
       "      <td>25.7</td>\n",
       "      <td>Yes</td>\n",
       "      <td>3.6</td>\n",
       "      <td>Yes</td>\n",
       "    </tr>\n",
       "    <tr>\n",
       "      <th>2</th>\n",
       "      <td>2007-11-03</td>\n",
       "      <td>13.7</td>\n",
       "      <td>23.4</td>\n",
       "      <td>3.6</td>\n",
       "      <td>5.8</td>\n",
       "      <td>3.3</td>\n",
       "      <td>NW</td>\n",
       "      <td>85.0</td>\n",
       "      <td>N</td>\n",
       "      <td>NNE</td>\n",
       "      <td>...</td>\n",
       "      <td>69</td>\n",
       "      <td>1009.5</td>\n",
       "      <td>1007.2</td>\n",
       "      <td>8</td>\n",
       "      <td>7</td>\n",
       "      <td>15.4</td>\n",
       "      <td>20.2</td>\n",
       "      <td>Yes</td>\n",
       "      <td>39.8</td>\n",
       "      <td>Yes</td>\n",
       "    </tr>\n",
       "    <tr>\n",
       "      <th>3</th>\n",
       "      <td>2007-11-04</td>\n",
       "      <td>13.3</td>\n",
       "      <td>15.5</td>\n",
       "      <td>39.8</td>\n",
       "      <td>7.2</td>\n",
       "      <td>9.1</td>\n",
       "      <td>NW</td>\n",
       "      <td>54.0</td>\n",
       "      <td>WNW</td>\n",
       "      <td>W</td>\n",
       "      <td>...</td>\n",
       "      <td>56</td>\n",
       "      <td>1005.5</td>\n",
       "      <td>1007.0</td>\n",
       "      <td>2</td>\n",
       "      <td>7</td>\n",
       "      <td>13.5</td>\n",
       "      <td>14.1</td>\n",
       "      <td>Yes</td>\n",
       "      <td>2.8</td>\n",
       "      <td>Yes</td>\n",
       "    </tr>\n",
       "    <tr>\n",
       "      <th>4</th>\n",
       "      <td>2007-11-05</td>\n",
       "      <td>7.6</td>\n",
       "      <td>16.1</td>\n",
       "      <td>2.8</td>\n",
       "      <td>5.6</td>\n",
       "      <td>10.6</td>\n",
       "      <td>SSE</td>\n",
       "      <td>50.0</td>\n",
       "      <td>SSE</td>\n",
       "      <td>ESE</td>\n",
       "      <td>...</td>\n",
       "      <td>49</td>\n",
       "      <td>1018.3</td>\n",
       "      <td>1018.5</td>\n",
       "      <td>7</td>\n",
       "      <td>7</td>\n",
       "      <td>11.1</td>\n",
       "      <td>15.4</td>\n",
       "      <td>Yes</td>\n",
       "      <td>0.0</td>\n",
       "      <td>No</td>\n",
       "    </tr>\n",
       "  </tbody>\n",
       "</table>\n",
       "<p>5 rows × 23 columns</p>\n",
       "</div>"
      ],
      "text/plain": [
       "         Date  MinTemp  MaxTemp  Rainfall  Evaporation  Sunshine WindGustDir  \\\n",
       "0  2007-11-01      8.0     24.3       0.0          3.4       6.3          NW   \n",
       "1  2007-11-02     14.0     26.9       3.6          4.4       9.7         ENE   \n",
       "2  2007-11-03     13.7     23.4       3.6          5.8       3.3          NW   \n",
       "3  2007-11-04     13.3     15.5      39.8          7.2       9.1          NW   \n",
       "4  2007-11-05      7.6     16.1       2.8          5.6      10.6         SSE   \n",
       "\n",
       "   WindGustSpeed WindDir9am WindDir3pm  ...  Humidity3pm  Pressure9am  \\\n",
       "0           30.0         SW         NW  ...           29       1019.7   \n",
       "1           39.0          E          W  ...           36       1012.4   \n",
       "2           85.0          N        NNE  ...           69       1009.5   \n",
       "3           54.0        WNW          W  ...           56       1005.5   \n",
       "4           50.0        SSE        ESE  ...           49       1018.3   \n",
       "\n",
       "   Pressure3pm  Cloud9am  Cloud3pm  Temp9am  Temp3pm  RainToday  RISK_MM  \\\n",
       "0       1015.0         7         7     14.4     23.6         No      3.6   \n",
       "1       1008.4         5         3     17.5     25.7        Yes      3.6   \n",
       "2       1007.2         8         7     15.4     20.2        Yes     39.8   \n",
       "3       1007.0         2         7     13.5     14.1        Yes      2.8   \n",
       "4       1018.5         7         7     11.1     15.4        Yes      0.0   \n",
       "\n",
       "   RainTomorrow  \n",
       "0           Yes  \n",
       "1           Yes  \n",
       "2           Yes  \n",
       "3           Yes  \n",
       "4            No  \n",
       "\n",
       "[5 rows x 23 columns]"
      ]
     },
     "execution_count": 3,
     "metadata": {},
     "output_type": "execute_result"
    }
   ],
   "source": [
    "df.head()"
   ]
  },
  {
   "cell_type": "code",
   "execution_count": 60,
   "metadata": {},
   "outputs": [
    {
     "data": {
      "text/html": [
       "<div>\n",
       "<style scoped>\n",
       "    .dataframe tbody tr th:only-of-type {\n",
       "        vertical-align: middle;\n",
       "    }\n",
       "\n",
       "    .dataframe tbody tr th {\n",
       "        vertical-align: top;\n",
       "    }\n",
       "\n",
       "    .dataframe thead th {\n",
       "        text-align: right;\n",
       "    }\n",
       "</style>\n",
       "<table border=\"1\" class=\"dataframe\">\n",
       "  <thead>\n",
       "    <tr style=\"text-align: right;\">\n",
       "      <th></th>\n",
       "      <th>MinTemp</th>\n",
       "      <th>MaxTemp</th>\n",
       "      <th>Rainfall</th>\n",
       "      <th>Evaporation</th>\n",
       "      <th>Sunshine</th>\n",
       "      <th>WindGustSpeed</th>\n",
       "      <th>WindSpeed9am</th>\n",
       "      <th>WindSpeed3pm</th>\n",
       "      <th>Humidity9am</th>\n",
       "      <th>Humidity3pm</th>\n",
       "      <th>Pressure9am</th>\n",
       "      <th>Pressure3pm</th>\n",
       "      <th>Cloud9am</th>\n",
       "      <th>Cloud3pm</th>\n",
       "      <th>Temp9am</th>\n",
       "      <th>Temp3pm</th>\n",
       "      <th>RISK_MM</th>\n",
       "    </tr>\n",
       "  </thead>\n",
       "  <tbody>\n",
       "    <tr>\n",
       "      <th>count</th>\n",
       "      <td>366.000000</td>\n",
       "      <td>366.000000</td>\n",
       "      <td>366.000000</td>\n",
       "      <td>366.000000</td>\n",
       "      <td>363.000000</td>\n",
       "      <td>364.000000</td>\n",
       "      <td>359.000000</td>\n",
       "      <td>366.000000</td>\n",
       "      <td>366.000000</td>\n",
       "      <td>366.000000</td>\n",
       "      <td>366.000000</td>\n",
       "      <td>366.000000</td>\n",
       "      <td>366.000000</td>\n",
       "      <td>366.000000</td>\n",
       "      <td>366.000000</td>\n",
       "      <td>366.000000</td>\n",
       "      <td>366.000000</td>\n",
       "    </tr>\n",
       "    <tr>\n",
       "      <th>mean</th>\n",
       "      <td>7.265574</td>\n",
       "      <td>20.550273</td>\n",
       "      <td>1.428415</td>\n",
       "      <td>4.521858</td>\n",
       "      <td>7.909366</td>\n",
       "      <td>39.840659</td>\n",
       "      <td>9.651811</td>\n",
       "      <td>17.986339</td>\n",
       "      <td>72.035519</td>\n",
       "      <td>44.519126</td>\n",
       "      <td>1019.709016</td>\n",
       "      <td>1016.810383</td>\n",
       "      <td>3.890710</td>\n",
       "      <td>4.024590</td>\n",
       "      <td>12.358470</td>\n",
       "      <td>19.230874</td>\n",
       "      <td>1.428415</td>\n",
       "    </tr>\n",
       "    <tr>\n",
       "      <th>std</th>\n",
       "      <td>6.025800</td>\n",
       "      <td>6.690516</td>\n",
       "      <td>4.225800</td>\n",
       "      <td>2.669383</td>\n",
       "      <td>3.481517</td>\n",
       "      <td>13.059807</td>\n",
       "      <td>7.951929</td>\n",
       "      <td>8.856997</td>\n",
       "      <td>13.137058</td>\n",
       "      <td>16.850947</td>\n",
       "      <td>6.686212</td>\n",
       "      <td>6.469422</td>\n",
       "      <td>2.956131</td>\n",
       "      <td>2.666268</td>\n",
       "      <td>5.630832</td>\n",
       "      <td>6.640346</td>\n",
       "      <td>4.225800</td>\n",
       "    </tr>\n",
       "    <tr>\n",
       "      <th>min</th>\n",
       "      <td>-5.300000</td>\n",
       "      <td>7.600000</td>\n",
       "      <td>0.000000</td>\n",
       "      <td>0.200000</td>\n",
       "      <td>0.000000</td>\n",
       "      <td>13.000000</td>\n",
       "      <td>0.000000</td>\n",
       "      <td>0.000000</td>\n",
       "      <td>36.000000</td>\n",
       "      <td>13.000000</td>\n",
       "      <td>996.500000</td>\n",
       "      <td>996.800000</td>\n",
       "      <td>0.000000</td>\n",
       "      <td>0.000000</td>\n",
       "      <td>0.100000</td>\n",
       "      <td>5.100000</td>\n",
       "      <td>0.000000</td>\n",
       "    </tr>\n",
       "    <tr>\n",
       "      <th>25%</th>\n",
       "      <td>2.300000</td>\n",
       "      <td>15.025000</td>\n",
       "      <td>0.000000</td>\n",
       "      <td>2.200000</td>\n",
       "      <td>5.950000</td>\n",
       "      <td>31.000000</td>\n",
       "      <td>6.000000</td>\n",
       "      <td>11.000000</td>\n",
       "      <td>64.000000</td>\n",
       "      <td>32.250000</td>\n",
       "      <td>1015.350000</td>\n",
       "      <td>1012.800000</td>\n",
       "      <td>1.000000</td>\n",
       "      <td>1.000000</td>\n",
       "      <td>7.625000</td>\n",
       "      <td>14.150000</td>\n",
       "      <td>0.000000</td>\n",
       "    </tr>\n",
       "    <tr>\n",
       "      <th>50%</th>\n",
       "      <td>7.450000</td>\n",
       "      <td>19.650000</td>\n",
       "      <td>0.000000</td>\n",
       "      <td>4.200000</td>\n",
       "      <td>8.600000</td>\n",
       "      <td>39.000000</td>\n",
       "      <td>7.000000</td>\n",
       "      <td>17.000000</td>\n",
       "      <td>72.000000</td>\n",
       "      <td>43.000000</td>\n",
       "      <td>1020.150000</td>\n",
       "      <td>1017.400000</td>\n",
       "      <td>3.500000</td>\n",
       "      <td>4.000000</td>\n",
       "      <td>12.550000</td>\n",
       "      <td>18.550000</td>\n",
       "      <td>0.000000</td>\n",
       "    </tr>\n",
       "    <tr>\n",
       "      <th>75%</th>\n",
       "      <td>12.500000</td>\n",
       "      <td>25.500000</td>\n",
       "      <td>0.200000</td>\n",
       "      <td>6.400000</td>\n",
       "      <td>10.500000</td>\n",
       "      <td>46.000000</td>\n",
       "      <td>13.000000</td>\n",
       "      <td>24.000000</td>\n",
       "      <td>81.000000</td>\n",
       "      <td>55.000000</td>\n",
       "      <td>1024.475000</td>\n",
       "      <td>1021.475000</td>\n",
       "      <td>7.000000</td>\n",
       "      <td>7.000000</td>\n",
       "      <td>17.000000</td>\n",
       "      <td>24.000000</td>\n",
       "      <td>0.200000</td>\n",
       "    </tr>\n",
       "    <tr>\n",
       "      <th>max</th>\n",
       "      <td>20.900000</td>\n",
       "      <td>35.800000</td>\n",
       "      <td>39.800000</td>\n",
       "      <td>13.800000</td>\n",
       "      <td>13.600000</td>\n",
       "      <td>98.000000</td>\n",
       "      <td>41.000000</td>\n",
       "      <td>52.000000</td>\n",
       "      <td>99.000000</td>\n",
       "      <td>96.000000</td>\n",
       "      <td>1035.700000</td>\n",
       "      <td>1033.200000</td>\n",
       "      <td>8.000000</td>\n",
       "      <td>8.000000</td>\n",
       "      <td>24.700000</td>\n",
       "      <td>34.500000</td>\n",
       "      <td>39.800000</td>\n",
       "    </tr>\n",
       "  </tbody>\n",
       "</table>\n",
       "</div>"
      ],
      "text/plain": [
       "          MinTemp     MaxTemp    Rainfall  Evaporation    Sunshine  \\\n",
       "count  366.000000  366.000000  366.000000   366.000000  363.000000   \n",
       "mean     7.265574   20.550273    1.428415     4.521858    7.909366   \n",
       "std      6.025800    6.690516    4.225800     2.669383    3.481517   \n",
       "min     -5.300000    7.600000    0.000000     0.200000    0.000000   \n",
       "25%      2.300000   15.025000    0.000000     2.200000    5.950000   \n",
       "50%      7.450000   19.650000    0.000000     4.200000    8.600000   \n",
       "75%     12.500000   25.500000    0.200000     6.400000   10.500000   \n",
       "max     20.900000   35.800000   39.800000    13.800000   13.600000   \n",
       "\n",
       "       WindGustSpeed  WindSpeed9am  WindSpeed3pm  Humidity9am  Humidity3pm  \\\n",
       "count     364.000000    359.000000    366.000000   366.000000   366.000000   \n",
       "mean       39.840659      9.651811     17.986339    72.035519    44.519126   \n",
       "std        13.059807      7.951929      8.856997    13.137058    16.850947   \n",
       "min        13.000000      0.000000      0.000000    36.000000    13.000000   \n",
       "25%        31.000000      6.000000     11.000000    64.000000    32.250000   \n",
       "50%        39.000000      7.000000     17.000000    72.000000    43.000000   \n",
       "75%        46.000000     13.000000     24.000000    81.000000    55.000000   \n",
       "max        98.000000     41.000000     52.000000    99.000000    96.000000   \n",
       "\n",
       "       Pressure9am  Pressure3pm    Cloud9am    Cloud3pm     Temp9am  \\\n",
       "count   366.000000   366.000000  366.000000  366.000000  366.000000   \n",
       "mean   1019.709016  1016.810383    3.890710    4.024590   12.358470   \n",
       "std       6.686212     6.469422    2.956131    2.666268    5.630832   \n",
       "min     996.500000   996.800000    0.000000    0.000000    0.100000   \n",
       "25%    1015.350000  1012.800000    1.000000    1.000000    7.625000   \n",
       "50%    1020.150000  1017.400000    3.500000    4.000000   12.550000   \n",
       "75%    1024.475000  1021.475000    7.000000    7.000000   17.000000   \n",
       "max    1035.700000  1033.200000    8.000000    8.000000   24.700000   \n",
       "\n",
       "          Temp3pm     RISK_MM  \n",
       "count  366.000000  366.000000  \n",
       "mean    19.230874    1.428415  \n",
       "std      6.640346    4.225800  \n",
       "min      5.100000    0.000000  \n",
       "25%     14.150000    0.000000  \n",
       "50%     18.550000    0.000000  \n",
       "75%     24.000000    0.200000  \n",
       "max     34.500000   39.800000  "
      ]
     },
     "execution_count": 60,
     "metadata": {},
     "output_type": "execute_result"
    }
   ],
   "source": [
    "df.describe()"
   ]
  },
  {
   "cell_type": "code",
   "execution_count": 61,
   "metadata": {},
   "outputs": [
    {
     "data": {
      "text/plain": [
       "8418"
      ]
     },
     "execution_count": 61,
     "metadata": {},
     "output_type": "execute_result"
    }
   ],
   "source": [
    "df.size"
   ]
  },
  {
   "cell_type": "code",
   "execution_count": 62,
   "metadata": {},
   "outputs": [
    {
     "data": {
      "text/plain": [
       "(366, 23)"
      ]
     },
     "execution_count": 62,
     "metadata": {},
     "output_type": "execute_result"
    }
   ],
   "source": [
    "df.shape"
   ]
  },
  {
   "cell_type": "code",
   "execution_count": 63,
   "metadata": {},
   "outputs": [
    {
     "data": {
      "text/plain": [
       "Index(['Date', 'MinTemp', 'MaxTemp', 'Rainfall', 'Evaporation', 'Sunshine',\n",
       "       'WindGustDir', 'WindGustSpeed', 'WindDir9am', 'WindDir3pm',\n",
       "       'WindSpeed9am', 'WindSpeed3pm', 'Humidity9am', 'Humidity3pm',\n",
       "       'Pressure9am', 'Pressure3pm', 'Cloud9am', 'Cloud3pm', 'Temp9am',\n",
       "       'Temp3pm', 'RainToday', 'RISK_MM', 'RainTomorrow'],\n",
       "      dtype='object')"
      ]
     },
     "execution_count": 63,
     "metadata": {},
     "output_type": "execute_result"
    }
   ],
   "source": [
    "df.columns"
   ]
  },
  {
   "cell_type": "code",
   "execution_count": 64,
   "metadata": {},
   "outputs": [
    {
     "data": {
      "image/png": "[encoded data removed]",
      "text/plain": [
       "<Figure size 432x288 with 1 Axes>"
      ]
     },
     "metadata": {
      "needs_background": "light"
     },
     "output_type": "display_data"
    }
   ],
   "source": [
    "df.WindDir9am.value_counts().plot(kind = 'barh')\n",
    "plt.title(\"Wind Direction 9 am\")\n",
    "plt.show()"
   ]
  },
  {
   "cell_type": "code",
   "execution_count": 65,
   "metadata": {},
   "outputs": [
    {
     "data": {
      "image/png": "[encoded data removed]",
      "text/plain": [
       "<Figure size 432x288 with 1 Axes>"
      ]
     },
     "metadata": {
      "needs_background": "light"
     },
     "output_type": "display_data"
    }
   ],
   "source": [
    "df.WindDir3pm.value_counts().plot(kind=\"barh\")\n",
    "plt.title(\"Wind Direction 3 PM\")\n",
    "plt.show()"
   ]
  },
  {
   "cell_type": "code",
   "execution_count": 66,
   "metadata": {},
   "outputs": [],
   "source": [
    "df['RainToday']=df['RainToday'].apply(lambda x:1 if x == \"Yes\" else 0)"
   ]
  },
  {
   "cell_type": "code",
   "execution_count": 67,
   "metadata": {},
   "outputs": [],
   "source": [
    "df['RainTomorrow']=df['RainTomorrow'].apply(lambda x:1 if x == \"Yes\" else 0)"
   ]
  },
  {
   "cell_type": "code",
   "execution_count": 68,
   "metadata": {},
   "outputs": [
    {
     "data": {
      "text/html": [
       "<div>\n",
       "<style scoped>\n",
       "    .dataframe tbody tr th:only-of-type {\n",
       "        vertical-align: middle;\n",
       "    }\n",
       "\n",
       "    .dataframe tbody tr th {\n",
       "        vertical-align: top;\n",
       "    }\n",
       "\n",
       "    .dataframe thead th {\n",
       "        text-align: right;\n",
       "    }\n",
       "</style>\n",
       "<table border=\"1\" class=\"dataframe\">\n",
       "  <thead>\n",
       "    <tr style=\"text-align: right;\">\n",
       "      <th></th>\n",
       "      <th>Date</th>\n",
       "      <th>MinTemp</th>\n",
       "      <th>MaxTemp</th>\n",
       "      <th>Rainfall</th>\n",
       "      <th>Evaporation</th>\n",
       "      <th>Sunshine</th>\n",
       "      <th>WindGustDir</th>\n",
       "      <th>WindGustSpeed</th>\n",
       "      <th>WindDir9am</th>\n",
       "      <th>WindDir3pm</th>\n",
       "      <th>...</th>\n",
       "      <th>Humidity3pm</th>\n",
       "      <th>Pressure9am</th>\n",
       "      <th>Pressure3pm</th>\n",
       "      <th>Cloud9am</th>\n",
       "      <th>Cloud3pm</th>\n",
       "      <th>Temp9am</th>\n",
       "      <th>Temp3pm</th>\n",
       "      <th>RainToday</th>\n",
       "      <th>RISK_MM</th>\n",
       "      <th>RainTomorrow</th>\n",
       "    </tr>\n",
       "  </thead>\n",
       "  <tbody>\n",
       "    <tr>\n",
       "      <th>0</th>\n",
       "      <td>2007-11-01</td>\n",
       "      <td>8.0</td>\n",
       "      <td>24.3</td>\n",
       "      <td>0.0</td>\n",
       "      <td>3.4</td>\n",
       "      <td>6.3</td>\n",
       "      <td>NW</td>\n",
       "      <td>30.0</td>\n",
       "      <td>SW</td>\n",
       "      <td>NW</td>\n",
       "      <td>...</td>\n",
       "      <td>29</td>\n",
       "      <td>1019.7</td>\n",
       "      <td>1015.0</td>\n",
       "      <td>7</td>\n",
       "      <td>7</td>\n",
       "      <td>14.4</td>\n",
       "      <td>23.6</td>\n",
       "      <td>0</td>\n",
       "      <td>3.6</td>\n",
       "      <td>1</td>\n",
       "    </tr>\n",
       "    <tr>\n",
       "      <th>1</th>\n",
       "      <td>2007-11-02</td>\n",
       "      <td>14.0</td>\n",
       "      <td>26.9</td>\n",
       "      <td>3.6</td>\n",
       "      <td>4.4</td>\n",
       "      <td>9.7</td>\n",
       "      <td>ENE</td>\n",
       "      <td>39.0</td>\n",
       "      <td>E</td>\n",
       "      <td>W</td>\n",
       "      <td>...</td>\n",
       "      <td>36</td>\n",
       "      <td>1012.4</td>\n",
       "      <td>1008.4</td>\n",
       "      <td>5</td>\n",
       "      <td>3</td>\n",
       "      <td>17.5</td>\n",
       "      <td>25.7</td>\n",
       "      <td>1</td>\n",
       "      <td>3.6</td>\n",
       "      <td>1</td>\n",
       "    </tr>\n",
       "    <tr>\n",
       "      <th>2</th>\n",
       "      <td>2007-11-03</td>\n",
       "      <td>13.7</td>\n",
       "      <td>23.4</td>\n",
       "      <td>3.6</td>\n",
       "      <td>5.8</td>\n",
       "      <td>3.3</td>\n",
       "      <td>NW</td>\n",
       "      <td>85.0</td>\n",
       "      <td>N</td>\n",
       "      <td>NNE</td>\n",
       "      <td>...</td>\n",
       "      <td>69</td>\n",
       "      <td>1009.5</td>\n",
       "      <td>1007.2</td>\n",
       "      <td>8</td>\n",
       "      <td>7</td>\n",
       "      <td>15.4</td>\n",
       "      <td>20.2</td>\n",
       "      <td>1</td>\n",
       "      <td>39.8</td>\n",
       "      <td>1</td>\n",
       "    </tr>\n",
       "    <tr>\n",
       "      <th>3</th>\n",
       "      <td>2007-11-04</td>\n",
       "      <td>13.3</td>\n",
       "      <td>15.5</td>\n",
       "      <td>39.8</td>\n",
       "      <td>7.2</td>\n",
       "      <td>9.1</td>\n",
       "      <td>NW</td>\n",
       "      <td>54.0</td>\n",
       "      <td>WNW</td>\n",
       "      <td>W</td>\n",
       "      <td>...</td>\n",
       "      <td>56</td>\n",
       "      <td>1005.5</td>\n",
       "      <td>1007.0</td>\n",
       "      <td>2</td>\n",
       "      <td>7</td>\n",
       "      <td>13.5</td>\n",
       "      <td>14.1</td>\n",
       "      <td>1</td>\n",
       "      <td>2.8</td>\n",
       "      <td>1</td>\n",
       "    </tr>\n",
       "    <tr>\n",
       "      <th>4</th>\n",
       "      <td>2007-11-05</td>\n",
       "      <td>7.6</td>\n",
       "      <td>16.1</td>\n",
       "      <td>2.8</td>\n",
       "      <td>5.6</td>\n",
       "      <td>10.6</td>\n",
       "      <td>SSE</td>\n",
       "      <td>50.0</td>\n",
       "      <td>SSE</td>\n",
       "      <td>ESE</td>\n",
       "      <td>...</td>\n",
       "      <td>49</td>\n",
       "      <td>1018.3</td>\n",
       "      <td>1018.5</td>\n",
       "      <td>7</td>\n",
       "      <td>7</td>\n",
       "      <td>11.1</td>\n",
       "      <td>15.4</td>\n",
       "      <td>1</td>\n",
       "      <td>0.0</td>\n",
       "      <td>0</td>\n",
       "    </tr>\n",
       "  </tbody>\n",
       "</table>\n",
       "<p>5 rows × 23 columns</p>\n",
       "</div>"
      ],
      "text/plain": [
       "         Date  MinTemp  MaxTemp  Rainfall  Evaporation  Sunshine WindGustDir  \\\n",
       "0  2007-11-01      8.0     24.3       0.0          3.4       6.3          NW   \n",
       "1  2007-11-02     14.0     26.9       3.6          4.4       9.7         ENE   \n",
       "2  2007-11-03     13.7     23.4       3.6          5.8       3.3          NW   \n",
       "3  2007-11-04     13.3     15.5      39.8          7.2       9.1          NW   \n",
       "4  2007-11-05      7.6     16.1       2.8          5.6      10.6         SSE   \n",
       "\n",
       "   WindGustSpeed WindDir9am WindDir3pm  ...  Humidity3pm  Pressure9am  \\\n",
       "0           30.0         SW         NW  ...           29       1019.7   \n",
       "1           39.0          E          W  ...           36       1012.4   \n",
       "2           85.0          N        NNE  ...           69       1009.5   \n",
       "3           54.0        WNW          W  ...           56       1005.5   \n",
       "4           50.0        SSE        ESE  ...           49       1018.3   \n",
       "\n",
       "   Pressure3pm  Cloud9am  Cloud3pm  Temp9am  Temp3pm  RainToday  RISK_MM  \\\n",
       "0       1015.0         7         7     14.4     23.6          0      3.6   \n",
       "1       1008.4         5         3     17.5     25.7          1      3.6   \n",
       "2       1007.2         8         7     15.4     20.2          1     39.8   \n",
       "3       1007.0         2         7     13.5     14.1          1      2.8   \n",
       "4       1018.5         7         7     11.1     15.4          1      0.0   \n",
       "\n",
       "   RainTomorrow  \n",
       "0             1  \n",
       "1             1  \n",
       "2             1  \n",
       "3             1  \n",
       "4             0  \n",
       "\n",
       "[5 rows x 23 columns]"
      ]
     },
     "execution_count": 68,
     "metadata": {},
     "output_type": "execute_result"
    }
   ],
   "source": [
    "df.head()"
   ]
  },
  {
   "cell_type": "code",
   "execution_count": 69,
   "metadata": {},
   "outputs": [
    {
     "data": {
      "image/png": "[encoded data removed]",
      "text/plain": [
       "<Figure size 432x288 with 1 Axes>"
      ]
     },
     "metadata": {
      "needs_background": "light"
     },
     "output_type": "display_data"
    }
   ],
   "source": [
    "df.WindGustDir.value_counts().plot(kind = \"barh\",color = 'c')\n",
    "plt.title(\"Wind Gust Direction\")\n",
    "plt.show()"
   ]
  },
  {
   "cell_type": "code",
   "execution_count": 70,
   "metadata": {},
   "outputs": [],
   "source": [
    "from sklearn.preprocessing import LabelEncoder"
   ]
  },
  {
   "cell_type": "code",
   "execution_count": 71,
   "metadata": {},
   "outputs": [],
   "source": [
    "le = LabelEncoder()"
   ]
  },
  {
   "cell_type": "code",
   "execution_count": 72,
   "metadata": {},
   "outputs": [],
   "source": [
    "df=df.dropna()"
   ]
  },
  {
   "cell_type": "code",
   "execution_count": 73,
   "metadata": {},
   "outputs": [
    {
     "data": {
      "text/plain": [
       "(328, 23)"
      ]
     },
     "execution_count": 73,
     "metadata": {},
     "output_type": "execute_result"
    }
   ],
   "source": [
    "df.shape"
   ]
  },
  {
   "cell_type": "code",
   "execution_count": 74,
   "metadata": {},
   "outputs": [],
   "source": [
    "df.WindGustDir = le.fit_transform(df.WindGustDir)"
   ]
  },
  {
   "cell_type": "code",
   "execution_count": 75,
   "metadata": {},
   "outputs": [],
   "source": [
    "df.WindDir3pm = le.fit_transform(df.WindDir3pm)"
   ]
  },
  {
   "cell_type": "code",
   "execution_count": 76,
   "metadata": {},
   "outputs": [],
   "source": [
    "df.WindDir9am = le.fit_transform(df.WindDir9am)"
   ]
  },
  {
   "cell_type": "code",
   "execution_count": 78,
   "metadata": {},
   "outputs": [
    {
     "data": {
      "text/plain": [
       "Index(['Date', 'MinTemp', 'MaxTemp', 'Rainfall', 'Evaporation', 'Sunshine',\n",
       "       'WindGustDir', 'WindGustSpeed', 'WindDir9am', 'WindDir3pm',\n",
       "       'WindSpeed9am', 'WindSpeed3pm', 'Humidity9am', 'Humidity3pm',\n",
       "       'Pressure9am', 'Pressure3pm', 'Cloud9am', 'Cloud3pm', 'Temp9am',\n",
       "       'Temp3pm', 'RainToday', 'RISK_MM', 'RainTomorrow'],\n",
       "      dtype='object')"
      ]
     },
     "execution_count": 78,
     "metadata": {},
     "output_type": "execute_result"
    }
   ],
   "source": [
    "df.columns"
   ]
  },
  {
   "cell_type": "code",
   "execution_count": 79,
   "metadata": {},
   "outputs": [
    {
     "data": {
      "text/html": [
       "<div>\n",
       "<style scoped>\n",
       "    .dataframe tbody tr th:only-of-type {\n",
       "        vertical-align: middle;\n",
       "    }\n",
       "\n",
       "    .dataframe tbody tr th {\n",
       "        vertical-align: top;\n",
       "    }\n",
       "\n",
       "    .dataframe thead th {\n",
       "        text-align: right;\n",
       "    }\n",
       "</style>\n",
       "<table border=\"1\" class=\"dataframe\">\n",
       "  <thead>\n",
       "    <tr style=\"text-align: right;\">\n",
       "      <th></th>\n",
       "      <th>MinTemp</th>\n",
       "      <th>MaxTemp</th>\n",
       "      <th>Rainfall</th>\n",
       "      <th>Evaporation</th>\n",
       "      <th>Sunshine</th>\n",
       "      <th>WindGustDir</th>\n",
       "      <th>WindGustSpeed</th>\n",
       "      <th>WindDir9am</th>\n",
       "      <th>WindDir3pm</th>\n",
       "      <th>WindSpeed9am</th>\n",
       "      <th>...</th>\n",
       "      <th>Humidity3pm</th>\n",
       "      <th>Pressure9am</th>\n",
       "      <th>Pressure3pm</th>\n",
       "      <th>Cloud9am</th>\n",
       "      <th>Cloud3pm</th>\n",
       "      <th>Temp9am</th>\n",
       "      <th>Temp3pm</th>\n",
       "      <th>RainToday</th>\n",
       "      <th>RISK_MM</th>\n",
       "      <th>RainTomorrow</th>\n",
       "    </tr>\n",
       "  </thead>\n",
       "  <tbody>\n",
       "    <tr>\n",
       "      <th>count</th>\n",
       "      <td>328.000000</td>\n",
       "      <td>328.000000</td>\n",
       "      <td>328.000000</td>\n",
       "      <td>328.000000</td>\n",
       "      <td>328.000000</td>\n",
       "      <td>328.000000</td>\n",
       "      <td>328.000000</td>\n",
       "      <td>328.000000</td>\n",
       "      <td>328.000000</td>\n",
       "      <td>328.000000</td>\n",
       "      <td>...</td>\n",
       "      <td>328.000000</td>\n",
       "      <td>328.000000</td>\n",
       "      <td>328.000000</td>\n",
       "      <td>328.000000</td>\n",
       "      <td>328.000000</td>\n",
       "      <td>328.000000</td>\n",
       "      <td>328.000000</td>\n",
       "      <td>328.000000</td>\n",
       "      <td>328.000000</td>\n",
       "      <td>328.000000</td>\n",
       "    </tr>\n",
       "    <tr>\n",
       "      <th>mean</th>\n",
       "      <td>7.742988</td>\n",
       "      <td>20.897561</td>\n",
       "      <td>1.440854</td>\n",
       "      <td>4.702439</td>\n",
       "      <td>8.014939</td>\n",
       "      <td>6.192073</td>\n",
       "      <td>40.396341</td>\n",
       "      <td>7.067073</td>\n",
       "      <td>7.512195</td>\n",
       "      <td>10.414634</td>\n",
       "      <td>...</td>\n",
       "      <td>44.003049</td>\n",
       "      <td>1019.350000</td>\n",
       "      <td>1016.530793</td>\n",
       "      <td>3.905488</td>\n",
       "      <td>4.000000</td>\n",
       "      <td>12.815549</td>\n",
       "      <td>19.556402</td>\n",
       "      <td>0.185976</td>\n",
       "      <td>1.422561</td>\n",
       "      <td>0.182927</td>\n",
       "    </tr>\n",
       "    <tr>\n",
       "      <th>std</th>\n",
       "      <td>5.945199</td>\n",
       "      <td>6.707310</td>\n",
       "      <td>4.289427</td>\n",
       "      <td>2.681183</td>\n",
       "      <td>3.506646</td>\n",
       "      <td>4.337765</td>\n",
       "      <td>13.132176</td>\n",
       "      <td>3.897197</td>\n",
       "      <td>4.560819</td>\n",
       "      <td>7.811544</td>\n",
       "      <td>...</td>\n",
       "      <td>16.605975</td>\n",
       "      <td>6.715244</td>\n",
       "      <td>6.469774</td>\n",
       "      <td>2.974957</td>\n",
       "      <td>2.652101</td>\n",
       "      <td>5.542521</td>\n",
       "      <td>6.644311</td>\n",
       "      <td>0.389681</td>\n",
       "      <td>4.234023</td>\n",
       "      <td>0.387197</td>\n",
       "    </tr>\n",
       "    <tr>\n",
       "      <th>min</th>\n",
       "      <td>-5.300000</td>\n",
       "      <td>7.600000</td>\n",
       "      <td>0.000000</td>\n",
       "      <td>0.200000</td>\n",
       "      <td>0.000000</td>\n",
       "      <td>0.000000</td>\n",
       "      <td>13.000000</td>\n",
       "      <td>0.000000</td>\n",
       "      <td>0.000000</td>\n",
       "      <td>2.000000</td>\n",
       "      <td>...</td>\n",
       "      <td>13.000000</td>\n",
       "      <td>996.500000</td>\n",
       "      <td>996.800000</td>\n",
       "      <td>0.000000</td>\n",
       "      <td>0.000000</td>\n",
       "      <td>0.100000</td>\n",
       "      <td>5.100000</td>\n",
       "      <td>0.000000</td>\n",
       "      <td>0.000000</td>\n",
       "      <td>0.000000</td>\n",
       "    </tr>\n",
       "    <tr>\n",
       "      <th>25%</th>\n",
       "      <td>2.850000</td>\n",
       "      <td>15.500000</td>\n",
       "      <td>0.000000</td>\n",
       "      <td>2.550000</td>\n",
       "      <td>6.000000</td>\n",
       "      <td>2.000000</td>\n",
       "      <td>31.000000</td>\n",
       "      <td>3.000000</td>\n",
       "      <td>4.000000</td>\n",
       "      <td>6.000000</td>\n",
       "      <td>...</td>\n",
       "      <td>32.000000</td>\n",
       "      <td>1014.800000</td>\n",
       "      <td>1012.400000</td>\n",
       "      <td>1.000000</td>\n",
       "      <td>1.000000</td>\n",
       "      <td>8.175000</td>\n",
       "      <td>14.500000</td>\n",
       "      <td>0.000000</td>\n",
       "      <td>0.000000</td>\n",
       "      <td>0.000000</td>\n",
       "    </tr>\n",
       "    <tr>\n",
       "      <th>50%</th>\n",
       "      <td>7.900000</td>\n",
       "      <td>20.400000</td>\n",
       "      <td>0.000000</td>\n",
       "      <td>4.400000</td>\n",
       "      <td>8.750000</td>\n",
       "      <td>6.500000</td>\n",
       "      <td>39.000000</td>\n",
       "      <td>7.500000</td>\n",
       "      <td>7.000000</td>\n",
       "      <td>7.000000</td>\n",
       "      <td>...</td>\n",
       "      <td>42.500000</td>\n",
       "      <td>1019.750000</td>\n",
       "      <td>1016.900000</td>\n",
       "      <td>4.000000</td>\n",
       "      <td>4.000000</td>\n",
       "      <td>13.500000</td>\n",
       "      <td>18.850000</td>\n",
       "      <td>0.000000</td>\n",
       "      <td>0.000000</td>\n",
       "      <td>0.000000</td>\n",
       "    </tr>\n",
       "    <tr>\n",
       "      <th>75%</th>\n",
       "      <td>12.800000</td>\n",
       "      <td>25.800000</td>\n",
       "      <td>0.200000</td>\n",
       "      <td>6.600000</td>\n",
       "      <td>10.700000</td>\n",
       "      <td>8.000000</td>\n",
       "      <td>46.000000</td>\n",
       "      <td>10.000000</td>\n",
       "      <td>13.000000</td>\n",
       "      <td>13.000000</td>\n",
       "      <td>...</td>\n",
       "      <td>54.000000</td>\n",
       "      <td>1024.300000</td>\n",
       "      <td>1021.125000</td>\n",
       "      <td>7.000000</td>\n",
       "      <td>7.000000</td>\n",
       "      <td>17.200000</td>\n",
       "      <td>24.225000</td>\n",
       "      <td>0.000000</td>\n",
       "      <td>0.200000</td>\n",
       "      <td>0.000000</td>\n",
       "    </tr>\n",
       "    <tr>\n",
       "      <th>max</th>\n",
       "      <td>20.900000</td>\n",
       "      <td>35.800000</td>\n",
       "      <td>39.800000</td>\n",
       "      <td>13.800000</td>\n",
       "      <td>13.600000</td>\n",
       "      <td>15.000000</td>\n",
       "      <td>98.000000</td>\n",
       "      <td>15.000000</td>\n",
       "      <td>15.000000</td>\n",
       "      <td>41.000000</td>\n",
       "      <td>...</td>\n",
       "      <td>93.000000</td>\n",
       "      <td>1035.700000</td>\n",
       "      <td>1033.200000</td>\n",
       "      <td>8.000000</td>\n",
       "      <td>8.000000</td>\n",
       "      <td>24.700000</td>\n",
       "      <td>34.500000</td>\n",
       "      <td>1.000000</td>\n",
       "      <td>39.800000</td>\n",
       "      <td>1.000000</td>\n",
       "    </tr>\n",
       "  </tbody>\n",
       "</table>\n",
       "<p>8 rows × 22 columns</p>\n",
       "</div>"
      ],
      "text/plain": [
       "          MinTemp     MaxTemp    Rainfall  Evaporation    Sunshine  \\\n",
       "count  328.000000  328.000000  328.000000   328.000000  328.000000   \n",
       "mean     7.742988   20.897561    1.440854     4.702439    8.014939   \n",
       "std      5.945199    6.707310    4.289427     2.681183    3.506646   \n",
       "min     -5.300000    7.600000    0.000000     0.200000    0.000000   \n",
       "25%      2.850000   15.500000    0.000000     2.550000    6.000000   \n",
       "50%      7.900000   20.400000    0.000000     4.400000    8.750000   \n",
       "75%     12.800000   25.800000    0.200000     6.600000   10.700000   \n",
       "max     20.900000   35.800000   39.800000    13.800000   13.600000   \n",
       "\n",
       "       WindGustDir  WindGustSpeed  WindDir9am  WindDir3pm  WindSpeed9am  ...  \\\n",
       "count   328.000000     328.000000  328.000000  328.000000    328.000000  ...   \n",
       "mean      6.192073      40.396341    7.067073    7.512195     10.414634  ...   \n",
       "std       4.337765      13.132176    3.897197    4.560819      7.811544  ...   \n",
       "min       0.000000      13.000000    0.000000    0.000000      2.000000  ...   \n",
       "25%       2.000000      31.000000    3.000000    4.000000      6.000000  ...   \n",
       "50%       6.500000      39.000000    7.500000    7.000000      7.000000  ...   \n",
       "75%       8.000000      46.000000   10.000000   13.000000     13.000000  ...   \n",
       "max      15.000000      98.000000   15.000000   15.000000     41.000000  ...   \n",
       "\n",
       "       Humidity3pm  Pressure9am  Pressure3pm    Cloud9am    Cloud3pm  \\\n",
       "count   328.000000   328.000000   328.000000  328.000000  328.000000   \n",
       "mean     44.003049  1019.350000  1016.530793    3.905488    4.000000   \n",
       "std      16.605975     6.715244     6.469774    2.974957    2.652101   \n",
       "min      13.000000   996.500000   996.800000    0.000000    0.000000   \n",
       "25%      32.000000  1014.800000  1012.400000    1.000000    1.000000   \n",
       "50%      42.500000  1019.750000  1016.900000    4.000000    4.000000   \n",
       "75%      54.000000  1024.300000  1021.125000    7.000000    7.000000   \n",
       "max      93.000000  1035.700000  1033.200000    8.000000    8.000000   \n",
       "\n",
       "          Temp9am     Temp3pm   RainToday     RISK_MM  RainTomorrow  \n",
       "count  328.000000  328.000000  328.000000  328.000000    328.000000  \n",
       "mean    12.815549   19.556402    0.185976    1.422561      0.182927  \n",
       "std      5.542521    6.644311    0.389681    4.234023      0.387197  \n",
       "min      0.100000    5.100000    0.000000    0.000000      0.000000  \n",
       "25%      8.175000   14.500000    0.000000    0.000000      0.000000  \n",
       "50%     13.500000   18.850000    0.000000    0.000000      0.000000  \n",
       "75%     17.200000   24.225000    0.000000    0.200000      0.000000  \n",
       "max     24.700000   34.500000    1.000000   39.800000      1.000000  \n",
       "\n",
       "[8 rows x 22 columns]"
      ]
     },
     "execution_count": 79,
     "metadata": {},
     "output_type": "execute_result"
    }
   ],
   "source": [
    "df.describe()"
   ]
  },
  {
   "cell_type": "code",
   "execution_count": 80,
   "metadata": {},
   "outputs": [],
   "source": [
    "from sklearn.model_selection import train_test_split"
   ]
  },
  {
   "cell_type": "code",
   "execution_count": 81,
   "metadata": {},
   "outputs": [],
   "source": [
    "x = df.drop(['Date','RainTomorrow'],axis=1)"
   ]
  },
  {
   "cell_type": "code",
   "execution_count": 82,
   "metadata": {},
   "outputs": [],
   "source": [
    "y = df['RainTomorrow']"
   ]
  },
  {
   "cell_type": "code",
   "execution_count": 83,
   "metadata": {},
   "outputs": [],
   "source": [
    "train_x , train_y ,test_x , test_y = train_test_split(x,y , test_size = 0.2,random_state = 2)"
   ]
  },
  {
   "cell_type": "code",
   "execution_count": 84,
   "metadata": {},
   "outputs": [
    {
     "data": {
      "text/plain": [
       "(262, 21)"
      ]
     },
     "execution_count": 84,
     "metadata": {},
     "output_type": "execute_result"
    }
   ],
   "source": [
    "train_x.shape"
   ]
  },
  {
   "cell_type": "code",
   "execution_count": 85,
   "metadata": {},
   "outputs": [
    {
     "data": {
      "text/plain": [
       "(66, 21)"
      ]
     },
     "execution_count": 85,
     "metadata": {},
     "output_type": "execute_result"
    }
   ],
   "source": [
    "train_y.shape"
   ]
  },
  {
   "cell_type": "code",
   "execution_count": 86,
   "metadata": {},
   "outputs": [],
   "source": [
    "from sklearn.linear_model import LogisticRegression"
   ]
  },
  {
   "cell_type": "code",
   "execution_count": 87,
   "metadata": {},
   "outputs": [],
   "source": [
    "model = LogisticRegression()"
   ]
  },
  {
   "cell_type": "code",
   "execution_count": 88,
   "metadata": {},
   "outputs": [
    {
     "name": "stderr",
     "output_type": "stream",
     "text": [
      "/opt/conda/lib/python3.7/site-packages/sklearn/linear_model/logistic.py:432: FutureWarning: Default solver will be changed to 'lbfgs' in 0.22. Specify a solver to silence this warning.\n",
      "  FutureWarning)\n"
     ]
    },
    {
     "data": {
      "text/plain": [
       "LogisticRegression(C=1.0, class_weight=None, dual=False, fit_intercept=True,\n",
       "                   intercept_scaling=1, l1_ratio=None, max_iter=100,\n",
       "                   multi_class='warn', n_jobs=None, penalty='l2',\n",
       "                   random_state=None, solver='warn', tol=0.0001, verbose=0,\n",
       "                   warm_start=False)"
      ]
     },
     "execution_count": 88,
     "metadata": {},
     "output_type": "execute_result"
    }
   ],
   "source": [
    "model.fit(train_x , test_x)"
   ]
  },
  {
   "cell_type": "code",
   "execution_count": 89,
   "metadata": {},
   "outputs": [],
   "source": [
    "predict = model.predict(train_y)"
   ]
  },
  {
   "cell_type": "code",
   "execution_count": 90,
   "metadata": {},
   "outputs": [],
   "source": [
    "from sklearn.metrics import accuracy_score"
   ]
  },
  {
   "cell_type": "code",
   "execution_count": 91,
   "metadata": {},
   "outputs": [
    {
     "data": {
      "text/plain": [
       "0.9696969696969697"
      ]
     },
     "execution_count": 91,
     "metadata": {},
     "output_type": "execute_result"
    }
   ],
   "source": [
    "accuracy_score(predict , test_y)"
   ]
  },
  {
   "cell_type": "code",
   "execution_count": null,
   "metadata": {
    "collapsed": true
   },
   "outputs": [],
   "source": []
  }
 ],
 "metadata": {
  "kernelspec": {
   "display_name": "Python 3",
   "language": "python",
   "name": "python3"
  },
  "language_info": {
   "codemirror_mode": {
    "name": "ipython",
    "version": 3
   },
   "file_extension": ".py",
   "mimetype": "text/x-python",
   "name": "python",
   "nbconvert_exporter": "python",
   "pygments_lexer": "ipython3",
   "version": "3.7.3"
  }
 },
 "nbformat": 4,
 "nbformat_minor": 2
}
